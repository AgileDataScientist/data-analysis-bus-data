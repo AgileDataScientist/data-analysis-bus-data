{
  "nbformat": 4,
  "nbformat_minor": 0,
  "metadata": {
    "colab": {
      "provenance": [],
      "authorship_tag": "ABX9TyPA/BXb/qlExTw1IopX2Vhz",
      "include_colab_link": true
    },
    "kernelspec": {
      "name": "python3",
      "display_name": "Python 3"
    },
    "language_info": {
      "name": "python"
    }
  },
  "cells": [
    {
      "cell_type": "markdown",
      "metadata": {
        "id": "view-in-github",
        "colab_type": "text"
      },
      "source": [
        "<a href=\"https://colab.research.google.com/github/AgileDataScientist/data-analysis-bus-data/blob/main/NYCBusDelay.ipynb\" target=\"_parent\"><img src=\"https://colab.research.google.com/assets/colab-badge.svg\" alt=\"Open In Colab\"/></a>"
      ]
    },
    {
      "cell_type": "markdown",
      "source": [
        "# **NYC School Bus Delay Data**"
      ],
      "metadata": {
        "id": "cFNLxwW12SrG"
      }
    },
    {
      "cell_type": "code",
      "source": [
        "#!cp /content/drive/My Drive/DataAnalystPortfolio/DataAnalysisNYCSchoolBusDelayTime/bus.tar.gz /content/dataset\n",
        "!pip install pyjanitor\n",
        "!pip install dash\n",
        "!pip install plotly"
      ],
      "metadata": {
        "id": "HnUpTDIAy7Ml"
      },
      "execution_count": null,
      "outputs": []
    },
    {
      "cell_type": "code",
      "execution_count": 73,
      "metadata": {
        "id": "q6NZ4PBAwQ0_"
      },
      "outputs": [],
      "source": [
        "import pandas as pd\n",
        "import numpy as np\n",
        "\n",
        "# Plotting imports\n",
        "import matplotlib.pyplot as plt\n",
        "import seaborn as sns\n",
        "\n",
        "from jupyter_plotly_dash import JupyterDash\n",
        "import dash\n",
        "import dash_core_components as dcc\n",
        "import dash_html_components as html\n",
        "from dash.dependencies import Input, Output\n",
        "\n",
        "# Python dplyr\n",
        "from janitor import clean_names\n",
        "\n",
        "#from google.colab import drive\n",
        "#drive.mount('/content/myDrive')"
      ]
    },
    {
      "cell_type": "markdown",
      "source": [
        "## **Read Data**"
      ],
      "metadata": {
        "id": "1KXbtnRj2sEi"
      }
    },
    {
      "cell_type": "code",
      "source": [
        "#bus_data = pd.read_csv('/content/myDrive/MyDrive/Data Analyst Portfolio/Data Analysis NYC School Bus Delay Time/Bus_Breakdown_and_Delays.csv')\n",
        "bus_data = pd.read_csv('/content/sample_data/Bus_Breakdown_and_Delays.csv')\n",
        "\n",
        "# Clean up feature names\n",
        "bus_data = clean_names(bus_data) \n",
        "\n",
        "bus_data.head()"
      ],
      "metadata": {
        "colab": {
          "base_uri": "https://localhost:8080/",
          "height": 508
        },
        "id": "G5Y2NMuBwy1d",
        "outputId": "fb87142c-c74a-4974-869a-6e47663dd5a0"
      },
      "execution_count": 272,
      "outputs": [
        {
          "output_type": "stream",
          "name": "stderr",
          "text": [
            "/usr/local/lib/python3.7/dist-packages/IPython/core/interactiveshell.py:3326: DtypeWarning: Columns (17) have mixed types.Specify dtype option on import or set low_memory=False.\n",
            "  exec(code_obj, self.user_global_ns, self.user_ns)\n"
          ]
        },
        {
          "output_type": "execute_result",
          "data": {
            "text/plain": [
              "  school_year  busbreakdown_id           run_type bus_no route_number  \\\n",
              "0   2015-2016          1227538  Special Ed AM Run   2621         J711   \n",
              "1   2015-2016          1227539  Special Ed AM Run   1260         M351   \n",
              "2   2015-2016          1227540           Pre-K/EI    418            3   \n",
              "3   2015-2016          1227541  Special Ed AM Run   4522         M271   \n",
              "4   2015-2016          1227542  Special Ed AM Run   3124         M373   \n",
              "\n",
              "          reason schools_serviced             occurred_on  \\\n",
              "0  Heavy Traffic            75003  11/05/2015 08:10:00 AM   \n",
              "1  Heavy Traffic            06716  11/05/2015 08:10:00 AM   \n",
              "2  Heavy Traffic             C445  11/05/2015 08:09:00 AM   \n",
              "3  Heavy Traffic            02699  11/05/2015 08:12:00 AM   \n",
              "4  Heavy Traffic            02116  11/05/2015 08:13:00 AM   \n",
              "\n",
              "               created_on        boro  ... how_long_delayed  \\\n",
              "0  11/05/2015 08:12:00 AM  New Jersey  ...              NaN   \n",
              "1  11/05/2015 08:12:00 AM   Manhattan  ...            20MNS   \n",
              "2  11/05/2015 08:13:00 AM       Bronx  ...            15MIN   \n",
              "3  11/05/2015 08:14:00 AM   Manhattan  ...           15 MIN   \n",
              "4  11/05/2015 08:14:00 AM   Manhattan  ...              NaN   \n",
              "\n",
              "  number_of_students_on_the_bus has_contractor_notified_schools  \\\n",
              "0                            11                             Yes   \n",
              "1                             2                             Yes   \n",
              "2                             8                             Yes   \n",
              "3                             6                              No   \n",
              "4                             6                              No   \n",
              "\n",
              "  has_contractor_notified_parents have_you_alerted_opt  \\\n",
              "0                              No                  Yes   \n",
              "1                             Yes                   No   \n",
              "2                             Yes                  Yes   \n",
              "3                              No                   No   \n",
              "4                              No                   No   \n",
              "\n",
              "              informed_on incident_number         last_updated_on  \\\n",
              "0  11/05/2015 08:12:00 AM             NaN  11/05/2015 08:12:14 AM   \n",
              "1  11/05/2015 08:12:00 AM             NaN  11/05/2015 08:13:34 AM   \n",
              "2  11/05/2015 08:13:00 AM             NaN  11/05/2015 08:13:22 AM   \n",
              "3  11/05/2015 08:14:00 AM             NaN  11/05/2015 08:14:04 AM   \n",
              "4  11/05/2015 08:14:00 AM             NaN  11/05/2015 08:14:08 AM   \n",
              "\n",
              "  breakdown_or_running_late school_age_or_prek  \n",
              "0              Running Late         School-Age  \n",
              "1              Running Late         School-Age  \n",
              "2              Running Late              Pre-K  \n",
              "3              Running Late         School-Age  \n",
              "4              Running Late         School-Age  \n",
              "\n",
              "[5 rows x 21 columns]"
            ],
            "text/html": [
              "\n",
              "  <div id=\"df-a0cfe71a-a9c6-4e83-83cc-bc7c876d848a\">\n",
              "    <div class=\"colab-df-container\">\n",
              "      <div>\n",
              "<style scoped>\n",
              "    .dataframe tbody tr th:only-of-type {\n",
              "        vertical-align: middle;\n",
              "    }\n",
              "\n",
              "    .dataframe tbody tr th {\n",
              "        vertical-align: top;\n",
              "    }\n",
              "\n",
              "    .dataframe thead th {\n",
              "        text-align: right;\n",
              "    }\n",
              "</style>\n",
              "<table border=\"1\" class=\"dataframe\">\n",
              "  <thead>\n",
              "    <tr style=\"text-align: right;\">\n",
              "      <th></th>\n",
              "      <th>school_year</th>\n",
              "      <th>busbreakdown_id</th>\n",
              "      <th>run_type</th>\n",
              "      <th>bus_no</th>\n",
              "      <th>route_number</th>\n",
              "      <th>reason</th>\n",
              "      <th>schools_serviced</th>\n",
              "      <th>occurred_on</th>\n",
              "      <th>created_on</th>\n",
              "      <th>boro</th>\n",
              "      <th>...</th>\n",
              "      <th>how_long_delayed</th>\n",
              "      <th>number_of_students_on_the_bus</th>\n",
              "      <th>has_contractor_notified_schools</th>\n",
              "      <th>has_contractor_notified_parents</th>\n",
              "      <th>have_you_alerted_opt</th>\n",
              "      <th>informed_on</th>\n",
              "      <th>incident_number</th>\n",
              "      <th>last_updated_on</th>\n",
              "      <th>breakdown_or_running_late</th>\n",
              "      <th>school_age_or_prek</th>\n",
              "    </tr>\n",
              "  </thead>\n",
              "  <tbody>\n",
              "    <tr>\n",
              "      <th>0</th>\n",
              "      <td>2015-2016</td>\n",
              "      <td>1227538</td>\n",
              "      <td>Special Ed AM Run</td>\n",
              "      <td>2621</td>\n",
              "      <td>J711</td>\n",
              "      <td>Heavy Traffic</td>\n",
              "      <td>75003</td>\n",
              "      <td>11/05/2015 08:10:00 AM</td>\n",
              "      <td>11/05/2015 08:12:00 AM</td>\n",
              "      <td>New Jersey</td>\n",
              "      <td>...</td>\n",
              "      <td>NaN</td>\n",
              "      <td>11</td>\n",
              "      <td>Yes</td>\n",
              "      <td>No</td>\n",
              "      <td>Yes</td>\n",
              "      <td>11/05/2015 08:12:00 AM</td>\n",
              "      <td>NaN</td>\n",
              "      <td>11/05/2015 08:12:14 AM</td>\n",
              "      <td>Running Late</td>\n",
              "      <td>School-Age</td>\n",
              "    </tr>\n",
              "    <tr>\n",
              "      <th>1</th>\n",
              "      <td>2015-2016</td>\n",
              "      <td>1227539</td>\n",
              "      <td>Special Ed AM Run</td>\n",
              "      <td>1260</td>\n",
              "      <td>M351</td>\n",
              "      <td>Heavy Traffic</td>\n",
              "      <td>06716</td>\n",
              "      <td>11/05/2015 08:10:00 AM</td>\n",
              "      <td>11/05/2015 08:12:00 AM</td>\n",
              "      <td>Manhattan</td>\n",
              "      <td>...</td>\n",
              "      <td>20MNS</td>\n",
              "      <td>2</td>\n",
              "      <td>Yes</td>\n",
              "      <td>Yes</td>\n",
              "      <td>No</td>\n",
              "      <td>11/05/2015 08:12:00 AM</td>\n",
              "      <td>NaN</td>\n",
              "      <td>11/05/2015 08:13:34 AM</td>\n",
              "      <td>Running Late</td>\n",
              "      <td>School-Age</td>\n",
              "    </tr>\n",
              "    <tr>\n",
              "      <th>2</th>\n",
              "      <td>2015-2016</td>\n",
              "      <td>1227540</td>\n",
              "      <td>Pre-K/EI</td>\n",
              "      <td>418</td>\n",
              "      <td>3</td>\n",
              "      <td>Heavy Traffic</td>\n",
              "      <td>C445</td>\n",
              "      <td>11/05/2015 08:09:00 AM</td>\n",
              "      <td>11/05/2015 08:13:00 AM</td>\n",
              "      <td>Bronx</td>\n",
              "      <td>...</td>\n",
              "      <td>15MIN</td>\n",
              "      <td>8</td>\n",
              "      <td>Yes</td>\n",
              "      <td>Yes</td>\n",
              "      <td>Yes</td>\n",
              "      <td>11/05/2015 08:13:00 AM</td>\n",
              "      <td>NaN</td>\n",
              "      <td>11/05/2015 08:13:22 AM</td>\n",
              "      <td>Running Late</td>\n",
              "      <td>Pre-K</td>\n",
              "    </tr>\n",
              "    <tr>\n",
              "      <th>3</th>\n",
              "      <td>2015-2016</td>\n",
              "      <td>1227541</td>\n",
              "      <td>Special Ed AM Run</td>\n",
              "      <td>4522</td>\n",
              "      <td>M271</td>\n",
              "      <td>Heavy Traffic</td>\n",
              "      <td>02699</td>\n",
              "      <td>11/05/2015 08:12:00 AM</td>\n",
              "      <td>11/05/2015 08:14:00 AM</td>\n",
              "      <td>Manhattan</td>\n",
              "      <td>...</td>\n",
              "      <td>15 MIN</td>\n",
              "      <td>6</td>\n",
              "      <td>No</td>\n",
              "      <td>No</td>\n",
              "      <td>No</td>\n",
              "      <td>11/05/2015 08:14:00 AM</td>\n",
              "      <td>NaN</td>\n",
              "      <td>11/05/2015 08:14:04 AM</td>\n",
              "      <td>Running Late</td>\n",
              "      <td>School-Age</td>\n",
              "    </tr>\n",
              "    <tr>\n",
              "      <th>4</th>\n",
              "      <td>2015-2016</td>\n",
              "      <td>1227542</td>\n",
              "      <td>Special Ed AM Run</td>\n",
              "      <td>3124</td>\n",
              "      <td>M373</td>\n",
              "      <td>Heavy Traffic</td>\n",
              "      <td>02116</td>\n",
              "      <td>11/05/2015 08:13:00 AM</td>\n",
              "      <td>11/05/2015 08:14:00 AM</td>\n",
              "      <td>Manhattan</td>\n",
              "      <td>...</td>\n",
              "      <td>NaN</td>\n",
              "      <td>6</td>\n",
              "      <td>No</td>\n",
              "      <td>No</td>\n",
              "      <td>No</td>\n",
              "      <td>11/05/2015 08:14:00 AM</td>\n",
              "      <td>NaN</td>\n",
              "      <td>11/05/2015 08:14:08 AM</td>\n",
              "      <td>Running Late</td>\n",
              "      <td>School-Age</td>\n",
              "    </tr>\n",
              "  </tbody>\n",
              "</table>\n",
              "<p>5 rows × 21 columns</p>\n",
              "</div>\n",
              "      <button class=\"colab-df-convert\" onclick=\"convertToInteractive('df-a0cfe71a-a9c6-4e83-83cc-bc7c876d848a')\"\n",
              "              title=\"Convert this dataframe to an interactive table.\"\n",
              "              style=\"display:none;\">\n",
              "        \n",
              "  <svg xmlns=\"http://www.w3.org/2000/svg\" height=\"24px\"viewBox=\"0 0 24 24\"\n",
              "       width=\"24px\">\n",
              "    <path d=\"M0 0h24v24H0V0z\" fill=\"none\"/>\n",
              "    <path d=\"M18.56 5.44l.94 2.06.94-2.06 2.06-.94-2.06-.94-.94-2.06-.94 2.06-2.06.94zm-11 1L8.5 8.5l.94-2.06 2.06-.94-2.06-.94L8.5 2.5l-.94 2.06-2.06.94zm10 10l.94 2.06.94-2.06 2.06-.94-2.06-.94-.94-2.06-.94 2.06-2.06.94z\"/><path d=\"M17.41 7.96l-1.37-1.37c-.4-.4-.92-.59-1.43-.59-.52 0-1.04.2-1.43.59L10.3 9.45l-7.72 7.72c-.78.78-.78 2.05 0 2.83L4 21.41c.39.39.9.59 1.41.59.51 0 1.02-.2 1.41-.59l7.78-7.78 2.81-2.81c.8-.78.8-2.07 0-2.86zM5.41 20L4 18.59l7.72-7.72 1.47 1.35L5.41 20z\"/>\n",
              "  </svg>\n",
              "      </button>\n",
              "      \n",
              "  <style>\n",
              "    .colab-df-container {\n",
              "      display:flex;\n",
              "      flex-wrap:wrap;\n",
              "      gap: 12px;\n",
              "    }\n",
              "\n",
              "    .colab-df-convert {\n",
              "      background-color: #E8F0FE;\n",
              "      border: none;\n",
              "      border-radius: 50%;\n",
              "      cursor: pointer;\n",
              "      display: none;\n",
              "      fill: #1967D2;\n",
              "      height: 32px;\n",
              "      padding: 0 0 0 0;\n",
              "      width: 32px;\n",
              "    }\n",
              "\n",
              "    .colab-df-convert:hover {\n",
              "      background-color: #E2EBFA;\n",
              "      box-shadow: 0px 1px 2px rgba(60, 64, 67, 0.3), 0px 1px 3px 1px rgba(60, 64, 67, 0.15);\n",
              "      fill: #174EA6;\n",
              "    }\n",
              "\n",
              "    [theme=dark] .colab-df-convert {\n",
              "      background-color: #3B4455;\n",
              "      fill: #D2E3FC;\n",
              "    }\n",
              "\n",
              "    [theme=dark] .colab-df-convert:hover {\n",
              "      background-color: #434B5C;\n",
              "      box-shadow: 0px 1px 3px 1px rgba(0, 0, 0, 0.15);\n",
              "      filter: drop-shadow(0px 1px 2px rgba(0, 0, 0, 0.3));\n",
              "      fill: #FFFFFF;\n",
              "    }\n",
              "  </style>\n",
              "\n",
              "      <script>\n",
              "        const buttonEl =\n",
              "          document.querySelector('#df-a0cfe71a-a9c6-4e83-83cc-bc7c876d848a button.colab-df-convert');\n",
              "        buttonEl.style.display =\n",
              "          google.colab.kernel.accessAllowed ? 'block' : 'none';\n",
              "\n",
              "        async function convertToInteractive(key) {\n",
              "          const element = document.querySelector('#df-a0cfe71a-a9c6-4e83-83cc-bc7c876d848a');\n",
              "          const dataTable =\n",
              "            await google.colab.kernel.invokeFunction('convertToInteractive',\n",
              "                                                     [key], {});\n",
              "          if (!dataTable) return;\n",
              "\n",
              "          const docLinkHtml = 'Like what you see? Visit the ' +\n",
              "            '<a target=\"_blank\" href=https://colab.research.google.com/notebooks/data_table.ipynb>data table notebook</a>'\n",
              "            + ' to learn more about interactive tables.';\n",
              "          element.innerHTML = '';\n",
              "          dataTable['output_type'] = 'display_data';\n",
              "          await google.colab.output.renderOutput(dataTable, element);\n",
              "          const docLink = document.createElement('div');\n",
              "          docLink.innerHTML = docLinkHtml;\n",
              "          element.appendChild(docLink);\n",
              "        }\n",
              "      </script>\n",
              "    </div>\n",
              "  </div>\n",
              "  "
            ]
          },
          "metadata": {},
          "execution_count": 272
        }
      ]
    },
    {
      "cell_type": "code",
      "source": [
        "bus_data.info()"
      ],
      "metadata": {
        "id": "AI5d3vlwxuYR"
      },
      "execution_count": null,
      "outputs": []
    },
    {
      "cell_type": "code",
      "source": [
        "# Missing data\n",
        "bus_data.isnull().sum()"
      ],
      "metadata": {
        "id": "2fdZJ-qkyOCG"
      },
      "execution_count": null,
      "outputs": []
    },
    {
      "cell_type": "code",
      "source": [
        "# Unique values feature\n",
        "bus_data.nunique()"
      ],
      "metadata": {
        "id": "rpL6vLoox9cz"
      },
      "execution_count": null,
      "outputs": []
    },
    {
      "cell_type": "code",
      "source": [
        "def bar_plot(df, column, horizontal = False):\n",
        "  if horizontal:\n",
        "    plt.barh(df[column].value_counts().sort_index().index, \n",
        "             df[column].value_counts().sort_index().values );\n",
        "    plt.xlabel('Frequency Count')\n",
        "  else:\n",
        "    plt.bar(df[column].value_counts().sort_index().index, \n",
        "             df[column].value_counts().sort_index().values );\n",
        "    plt.ylabel('Frequency Count')\n",
        "  plt.title(column)\n",
        "  plt.rcParams['figure.figsize'] = (10, 5)\n",
        "  plt.tight_layout()\n",
        "  plt.show()"
      ],
      "metadata": {
        "id": "GlNiO69rlBVb"
      },
      "execution_count": 274,
      "outputs": []
    },
    {
      "cell_type": "code",
      "source": [
        "bus_data.columns"
      ],
      "metadata": {
        "colab": {
          "base_uri": "https://localhost:8080/"
        },
        "id": "Eh8JtvROy_sr",
        "outputId": "f4d47b3f-50e7-408b-8265-a5b450a1879a"
      },
      "execution_count": 271,
      "outputs": [
        {
          "output_type": "execute_result",
          "data": {
            "text/plain": [
              "Index(['school_year', 'busbreakdown_id', 'run_type', 'bus_no', 'route_number',\n",
              "       'reason', 'schools_serviced', 'occurred_on', 'created_on', 'boro',\n",
              "       'bus_company_name', 'how_long_delayed', 'number_of_students_on_the_bus',\n",
              "       'has_contractor_notified_schools', 'has_contractor_notified_parents',\n",
              "       'have_you_alerted_opt', 'informed_on', 'incident_number',\n",
              "       'last_updated_on', 'breakdown_or_running_late', 'school_age_or_prek',\n",
              "       'delay_interval', 'max_delay', 'max_cap_delay'],\n",
              "      dtype='object')"
            ]
          },
          "metadata": {},
          "execution_count": 271
        }
      ]
    },
    {
      "cell_type": "code",
      "source": [
        "# Counts for School Year\n",
        "bar_plot(bus_data, 'school_year' )"
      ],
      "metadata": {
        "id": "HTqZPvVf0Ewi"
      },
      "execution_count": null,
      "outputs": []
    },
    {
      "cell_type": "code",
      "source": [
        "# Run Type counts\n",
        "bar_plot(bus_data, 'run_type', True)"
      ],
      "metadata": {
        "id": "ngppLcD8lak6"
      },
      "execution_count": null,
      "outputs": []
    },
    {
      "cell_type": "code",
      "source": [
        "# Counts of reason for lateness\n",
        "bar_plot(bus_data, 'reason', True)"
      ],
      "metadata": {
        "id": "larnU7131SDD"
      },
      "execution_count": null,
      "outputs": []
    },
    {
      "cell_type": "code",
      "source": [
        "# Run_type counts \n",
        "bar_plot(bus_data, 'boro', True)"
      ],
      "metadata": {
        "id": "BPp9gPxqkiz8"
      },
      "execution_count": null,
      "outputs": []
    },
    {
      "cell_type": "code",
      "source": [
        "bus_data['bus_company_name'].str.lower().value_counts()"
      ],
      "metadata": {
        "colab": {
          "base_uri": "https://localhost:8080/"
        },
        "id": "PbQsXaBYA8C5",
        "outputId": "8c7b5304-7066-47a1-ea5f-e40b74b1f06d"
      },
      "execution_count": 281,
      "outputs": [
        {
          "output_type": "execute_result",
          "data": {
            "text/plain": [
              "leesel transportation corp (b2192)     66488\n",
              "pioneer transportation corp            30959\n",
              "g.v.c., ltd.                           28563\n",
              "boro transit, inc.                     25545\n",
              "reliant transportation, inc (b2321)    23992\n",
              "                                       ...  \n",
              "r & c transit, inc. (b2321)                1\n",
              "alina                                      1\n",
              "l&m bus corp.                              1\n",
              "iy                                         1\n",
              "guillen rodriguez                          1\n",
              "Name: bus_company_name, Length: 132, dtype: int64"
            ]
          },
          "metadata": {},
          "execution_count": 281
        }
      ]
    },
    {
      "cell_type": "code",
      "source": [
        "bus_data['incident_number'].nunique()\n",
        "bus_data['incident_number'].value_counts(dropna=False)"
      ],
      "metadata": {
        "colab": {
          "base_uri": "https://localhost:8080/"
        },
        "id": "NcAlRnH91HvR",
        "outputId": "19981a27-2184-42df-b8bf-5c2d8c83b76f"
      },
      "execution_count": 284,
      "outputs": [
        {
          "output_type": "execute_result",
          "data": {
            "text/plain": [
              "NaN           518825\n",
              "X               1043\n",
              "x                118\n",
              "e                 65\n",
              "90558530          33\n",
              "               ...  \n",
              "90267100           1\n",
              "90267079           1\n",
              "90267010           1\n",
              "90266920           1\n",
              "91222837.0         1\n",
              "Name: incident_number, Length: 7870, dtype: int64"
            ]
          },
          "metadata": {},
          "execution_count": 284
        }
      ]
    },
    {
      "cell_type": "code",
      "source": [
        "bar_plot(bus_data, 'breakdown_or_running_late' )"
      ],
      "metadata": {
        "colab": {
          "base_uri": "https://localhost:8080/",
          "height": 369
        },
        "id": "_ajoCseTyY_5",
        "outputId": "79961288-9241-4bf5-d083-d6ff31937416"
      },
      "execution_count": 285,
      "outputs": [
        {
          "output_type": "display_data",
          "data": {
            "text/plain": [
              "<Figure size 720x360 with 1 Axes>"
            ],
            "image/png": "[encoded data removed]"
          },
          "metadata": {
            "needs_background": "light"
          }
        }
      ]
    },
    {
      "cell_type": "code",
      "source": [
        "bar_plot(bus_data, 'school_age_or_prek')"
      ],
      "metadata": {
        "colab": {
          "base_uri": "https://localhost:8080/",
          "height": 369
        },
        "id": "d76Mi-XckhFo",
        "outputId": "e08c3605-0dab-4610-faea-05512a213b84"
      },
      "execution_count": 286,
      "outputs": [
        {
          "output_type": "display_data",
          "data": {
            "text/plain": [
              "<Figure size 720x360 with 1 Axes>"
            ],
            "image/png": "[encoded data removed]"
          },
          "metadata": {
            "needs_background": "light"
          }
        }
      ]
    },
    {
      "cell_type": "code",
      "source": [],
      "metadata": {
        "id": "dTd-XL5eyUE9"
      },
      "execution_count": null,
      "outputs": []
    },
    {
      "cell_type": "code",
      "source": [
        "bus_data['delay_interval'] = bus_data['how_long_delayed'].str.extract('([0-9]+-[0-9]+)', expand=False)\n",
        "bus_data['delay_interval'].value_counts()"
      ],
      "metadata": {
        "colab": {
          "base_uri": "https://localhost:8080/"
        },
        "id": "uRiCC6WOLfWx",
        "outputId": "f17ab037-6e4c-4f69-e3db-0573ad7bc8ee"
      },
      "execution_count": 194,
      "outputs": [
        {
          "output_type": "execute_result",
          "data": {
            "text/plain": [
              "31-45    116145\n",
              "16-30    107832\n",
              "46-60     62185\n",
              "0-15      38306\n",
              "61-90     24017\n",
              "          ...  \n",
              "20-15         1\n",
              "5-1           1\n",
              "10-18         1\n",
              "20-20         1\n",
              "15-10         1\n",
              "Name: delay_interval, Length: 76, dtype: int64"
            ]
          },
          "metadata": {},
          "execution_count": 194
        }
      ]
    },
    {
      "cell_type": "code",
      "source": [
        "import re\n",
        "\n",
        "def max_time_delayed(statement):\n",
        "  if statement != '':\n",
        "    value = re.findall('\\d+', str(statement))\n",
        "    length = len(value)\n",
        "    if length > 0:\n",
        "      #print(value, len(value), value[length-1])\n",
        "      return int(value[length-1])\n",
        "\n",
        "bus_data['max_delay'] = bus_data['how_long_delayed'].apply(max_time_delayed)\n",
        "bus_data['max_delay'].value_counts(dropna=False)\n",
        "bus_data['max_delay'].describe()"
      ],
      "metadata": {
        "colab": {
          "base_uri": "https://localhost:8080/"
        },
        "id": "Ntp7NPuwOnNA",
        "outputId": "27a1453c-018d-46f9-f599-a49c34b5b14e"
      },
      "execution_count": 196,
      "outputs": [
        {
          "output_type": "execute_result",
          "data": {
            "text/plain": [
              "count    475828.000000\n",
              "mean         39.665837\n",
              "std         323.817987\n",
              "min           0.000000\n",
              "25%          30.000000\n",
              "50%          30.000000\n",
              "75%          45.000000\n",
              "max      202340.000000\n",
              "Name: max_delay, dtype: float64"
            ]
          },
          "metadata": {},
          "execution_count": 196
        }
      ]
    },
    {
      "cell_type": "code",
      "source": [
        "def cap_off_delay(statement):\n",
        "  if 0 < statement < 120:\n",
        "    return statement\n",
        "  return 120\n",
        "\n",
        "bus_data['max_cap_delay'] = bus_data['max_delay'].apply(cap_off_delay)\n",
        "plt.boxplot(bus_data['max_cap_delay'], vert=0);\n",
        "#bus_data['max_cap_delay'].describe().T"
      ],
      "metadata": {
        "colab": {
          "base_uri": "https://localhost:8080/",
          "height": 320
        },
        "id": "9TAdA1KcbXza",
        "outputId": "80eaba66-3a3a-4c32-cc13-0ffa703a3abb"
      },
      "execution_count": 206,
      "outputs": [
        {
          "output_type": "display_data",
          "data": {
            "text/plain": [
              "<Figure size 720x360 with 1 Axes>"
            ],
            "image/png": "[encoded data removed]"
          },
          "metadata": {
            "needs_background": "light"
          }
        }
      ]
    },
    {
      "cell_type": "code",
      "source": [
        "bus_data.columns"
      ],
      "metadata": {
        "colab": {
          "base_uri": "https://localhost:8080/"
        },
        "id": "RZgRVgwLdoOk",
        "outputId": "6f5f64c1-ea01-488b-ba9d-712babbbfd14"
      },
      "execution_count": 208,
      "outputs": [
        {
          "output_type": "execute_result",
          "data": {
            "text/plain": [
              "Index(['school_year', 'busbreakdown_id', 'run_type', 'bus_no', 'route_number',\n",
              "       'reason', 'schools_serviced', 'occurred_on', 'created_on', 'boro',\n",
              "       'bus_company_name', 'how_long_delayed', 'number_of_students_on_the_bus',\n",
              "       'has_contractor_notified_schools', 'has_contractor_notified_parents',\n",
              "       'have_you_alerted_opt', 'informed_on', 'incident_number',\n",
              "       'last_updated_on', 'breakdown_or_running_late', 'school_age_or_prek',\n",
              "       'delay_interval', 'max_delay', 'max_cap_delay'],\n",
              "      dtype='object')"
            ]
          },
          "metadata": {},
          "execution_count": 208
        }
      ]
    },
    {
      "cell_type": "code",
      "source": [
        "bus_data[['breakdown_or_running_late','delay_interval', 'max_delay', 'max_cap_delay']].head()"
      ],
      "metadata": {
        "colab": {
          "base_uri": "https://localhost:8080/",
          "height": 206
        },
        "id": "caNao9t2g-l-",
        "outputId": "1408746b-b0cf-4529-8939-0b204ec209d7"
      },
      "execution_count": 211,
      "outputs": [
        {
          "output_type": "execute_result",
          "data": {
            "text/plain": [
              "  breakdown_or_running_late delay_interval  max_delay  max_cap_delay\n",
              "0              Running Late            NaN        NaN          120.0\n",
              "1              Running Late            NaN       20.0           20.0\n",
              "2              Running Late            NaN       15.0           15.0\n",
              "3              Running Late            NaN       15.0           15.0\n",
              "4              Running Late            NaN        NaN          120.0"
            ],
            "text/html": [
              "\n",
              "  <div id=\"df-e0f66e43-9f46-41cd-afe3-a9fe47caf8e0\">\n",
              "    <div class=\"colab-df-container\">\n",
              "      <div>\n",
              "<style scoped>\n",
              "    .dataframe tbody tr th:only-of-type {\n",
              "        vertical-align: middle;\n",
              "    }\n",
              "\n",
              "    .dataframe tbody tr th {\n",
              "        vertical-align: top;\n",
              "    }\n",
              "\n",
              "    .dataframe thead th {\n",
              "        text-align: right;\n",
              "    }\n",
              "</style>\n",
              "<table border=\"1\" class=\"dataframe\">\n",
              "  <thead>\n",
              "    <tr style=\"text-align: right;\">\n",
              "      <th></th>\n",
              "      <th>breakdown_or_running_late</th>\n",
              "      <th>delay_interval</th>\n",
              "      <th>max_delay</th>\n",
              "      <th>max_cap_delay</th>\n",
              "    </tr>\n",
              "  </thead>\n",
              "  <tbody>\n",
              "    <tr>\n",
              "      <th>0</th>\n",
              "      <td>Running Late</td>\n",
              "      <td>NaN</td>\n",
              "      <td>NaN</td>\n",
              "      <td>120.0</td>\n",
              "    </tr>\n",
              "    <tr>\n",
              "      <th>1</th>\n",
              "      <td>Running Late</td>\n",
              "      <td>NaN</td>\n",
              "      <td>20.0</td>\n",
              "      <td>20.0</td>\n",
              "    </tr>\n",
              "    <tr>\n",
              "      <th>2</th>\n",
              "      <td>Running Late</td>\n",
              "      <td>NaN</td>\n",
              "      <td>15.0</td>\n",
              "      <td>15.0</td>\n",
              "    </tr>\n",
              "    <tr>\n",
              "      <th>3</th>\n",
              "      <td>Running Late</td>\n",
              "      <td>NaN</td>\n",
              "      <td>15.0</td>\n",
              "      <td>15.0</td>\n",
              "    </tr>\n",
              "    <tr>\n",
              "      <th>4</th>\n",
              "      <td>Running Late</td>\n",
              "      <td>NaN</td>\n",
              "      <td>NaN</td>\n",
              "      <td>120.0</td>\n",
              "    </tr>\n",
              "  </tbody>\n",
              "</table>\n",
              "</div>\n",
              "      <button class=\"colab-df-convert\" onclick=\"convertToInteractive('df-e0f66e43-9f46-41cd-afe3-a9fe47caf8e0')\"\n",
              "              title=\"Convert this dataframe to an interactive table.\"\n",
              "              style=\"display:none;\">\n",
              "        \n",
              "  <svg xmlns=\"http://www.w3.org/2000/svg\" height=\"24px\"viewBox=\"0 0 24 24\"\n",
              "       width=\"24px\">\n",
              "    <path d=\"M0 0h24v24H0V0z\" fill=\"none\"/>\n",
              "    <path d=\"M18.56 5.44l.94 2.06.94-2.06 2.06-.94-2.06-.94-.94-2.06-.94 2.06-2.06.94zm-11 1L8.5 8.5l.94-2.06 2.06-.94-2.06-.94L8.5 2.5l-.94 2.06-2.06.94zm10 10l.94 2.06.94-2.06 2.06-.94-2.06-.94-.94-2.06-.94 2.06-2.06.94z\"/><path d=\"M17.41 7.96l-1.37-1.37c-.4-.4-.92-.59-1.43-.59-.52 0-1.04.2-1.43.59L10.3 9.45l-7.72 7.72c-.78.78-.78 2.05 0 2.83L4 21.41c.39.39.9.59 1.41.59.51 0 1.02-.2 1.41-.59l7.78-7.78 2.81-2.81c.8-.78.8-2.07 0-2.86zM5.41 20L4 18.59l7.72-7.72 1.47 1.35L5.41 20z\"/>\n",
              "  </svg>\n",
              "      </button>\n",
              "      \n",
              "  <style>\n",
              "    .colab-df-container {\n",
              "      display:flex;\n",
              "      flex-wrap:wrap;\n",
              "      gap: 12px;\n",
              "    }\n",
              "\n",
              "    .colab-df-convert {\n",
              "      background-color: #E8F0FE;\n",
              "      border: none;\n",
              "      border-radius: 50%;\n",
              "      cursor: pointer;\n",
              "      display: none;\n",
              "      fill: #1967D2;\n",
              "      height: 32px;\n",
              "      padding: 0 0 0 0;\n",
              "      width: 32px;\n",
              "    }\n",
              "\n",
              "    .colab-df-convert:hover {\n",
              "      background-color: #E2EBFA;\n",
              "      box-shadow: 0px 1px 2px rgba(60, 64, 67, 0.3), 0px 1px 3px 1px rgba(60, 64, 67, 0.15);\n",
              "      fill: #174EA6;\n",
              "    }\n",
              "\n",
              "    [theme=dark] .colab-df-convert {\n",
              "      background-color: #3B4455;\n",
              "      fill: #D2E3FC;\n",
              "    }\n",
              "\n",
              "    [theme=dark] .colab-df-convert:hover {\n",
              "      background-color: #434B5C;\n",
              "      box-shadow: 0px 1px 3px 1px rgba(0, 0, 0, 0.15);\n",
              "      filter: drop-shadow(0px 1px 2px rgba(0, 0, 0, 0.3));\n",
              "      fill: #FFFFFF;\n",
              "    }\n",
              "  </style>\n",
              "\n",
              "      <script>\n",
              "        const buttonEl =\n",
              "          document.querySelector('#df-e0f66e43-9f46-41cd-afe3-a9fe47caf8e0 button.colab-df-convert');\n",
              "        buttonEl.style.display =\n",
              "          google.colab.kernel.accessAllowed ? 'block' : 'none';\n",
              "\n",
              "        async function convertToInteractive(key) {\n",
              "          const element = document.querySelector('#df-e0f66e43-9f46-41cd-afe3-a9fe47caf8e0');\n",
              "          const dataTable =\n",
              "            await google.colab.kernel.invokeFunction('convertToInteractive',\n",
              "                                                     [key], {});\n",
              "          if (!dataTable) return;\n",
              "\n",
              "          const docLinkHtml = 'Like what you see? Visit the ' +\n",
              "            '<a target=\"_blank\" href=https://colab.research.google.com/notebooks/data_table.ipynb>data table notebook</a>'\n",
              "            + ' to learn more about interactive tables.';\n",
              "          element.innerHTML = '';\n",
              "          dataTable['output_type'] = 'display_data';\n",
              "          await google.colab.output.renderOutput(dataTable, element);\n",
              "          const docLink = document.createElement('div');\n",
              "          docLink.innerHTML = docLinkHtml;\n",
              "          element.appendChild(docLink);\n",
              "        }\n",
              "      </script>\n",
              "    </div>\n",
              "  </div>\n",
              "  "
            ]
          },
          "metadata": {},
          "execution_count": 211
        }
      ]
    },
    {
      "cell_type": "code",
      "source": [
        "bus_data.groupby('breakdown_or_running_late')['has_contractor_notified_schools'].value_counts(dropna=False)"
      ],
      "metadata": {
        "colab": {
          "base_uri": "https://localhost:8080/"
        },
        "id": "7VtrYNKghUTO",
        "outputId": "6b7b9deb-d145-425e-ab30-17c21549df01"
      },
      "execution_count": 214,
      "outputs": [
        {
          "output_type": "execute_result",
          "data": {
            "text/plain": [
              "breakdown_or_running_late  has_contractor_notified_schools\n",
              "Breakdown                  Yes                                 41599\n",
              "                           No                                   7217\n",
              "Running Late               Yes                                420466\n",
              "                           No                                  60413\n",
              "Name: has_contractor_notified_schools, dtype: int64"
            ]
          },
          "metadata": {},
          "execution_count": 214
        }
      ]
    },
    {
      "cell_type": "code",
      "source": [
        "# Explore reason\n",
        "bus_data.groupby('reason')['breakdown_or_running_late'].value_counts(dropna=False)"
      ],
      "metadata": {
        "colab": {
          "base_uri": "https://localhost:8080/"
        },
        "id": "BuJrqCqViLUY",
        "outputId": "95ec27aa-67fd-45a2-9e3a-552d7eee6233"
      },
      "execution_count": 217,
      "outputs": [
        {
          "output_type": "execute_result",
          "data": {
            "text/plain": [
              "reason                       breakdown_or_running_late\n",
              "Accident                     Running Late                   4340\n",
              "                             Breakdown                       461\n",
              "Delayed by School            Running Late                   3791\n",
              "                             Breakdown                        15\n",
              "Flat Tire                    Running Late                   6921\n",
              "                             Breakdown                      6434\n",
              "Heavy Traffic                Running Late                 330624\n",
              "                             Breakdown                       659\n",
              "Late return from Field Trip  Running Late                   8020\n",
              "                             Breakdown                        49\n",
              "Mechanical Problem           Running Late                  25938\n",
              "                             Breakdown                     24769\n",
              "Other                        Running Late                  71646\n",
              "                             Breakdown                      5364\n",
              "Problem Run                  Running Late                  12511\n",
              "                             Breakdown                        62\n",
              "Weather Conditions           Running Late                  10057\n",
              "                             Breakdown                       117\n",
              "Won`t Start                  Breakdown                     10886\n",
              "                             Running Late                   7029\n",
              "Name: breakdown_or_running_late, dtype: int64"
            ]
          },
          "metadata": {},
          "execution_count": 217
        }
      ]
    },
    {
      "cell_type": "code",
      "source": [
        "bus_data.groupby('reason')['has_contractor_notified_schools'].value_counts(dropna=False)"
      ],
      "metadata": {
        "colab": {
          "base_uri": "https://localhost:8080/"
        },
        "id": "qOkF672jiBNp",
        "outputId": "f9d38be8-efa0-4846-c233-77409772c4df"
      },
      "execution_count": 216,
      "outputs": [
        {
          "output_type": "execute_result",
          "data": {
            "text/plain": [
              "reason                       has_contractor_notified_schools\n",
              "Accident                     Yes                                  4190\n",
              "                             No                                    611\n",
              "Delayed by School            Yes                                  3366\n",
              "                             No                                    440\n",
              "Flat Tire                    Yes                                 11585\n",
              "                             No                                   1770\n",
              "Heavy Traffic                Yes                                292851\n",
              "                             No                                  38432\n",
              "Late return from Field Trip  Yes                                  7059\n",
              "                             No                                   1010\n",
              "Mechanical Problem           Yes                                 41796\n",
              "                             No                                   8911\n",
              "Other                        Yes                                 64944\n",
              "                             No                                  12066\n",
              "Problem Run                  Yes                                 11465\n",
              "                             No                                   1108\n",
              "Weather Conditions           Yes                                  9070\n",
              "                             No                                   1104\n",
              "Won`t Start                  Yes                                 15739\n",
              "                             No                                   2176\n",
              "Name: has_contractor_notified_schools, dtype: int64"
            ]
          },
          "metadata": {},
          "execution_count": 216
        }
      ]
    }
  ]
}