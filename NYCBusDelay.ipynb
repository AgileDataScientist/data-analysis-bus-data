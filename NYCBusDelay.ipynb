{
  "nbformat": 4,
  "nbformat_minor": 0,
  "metadata": {
    "colab": {
      "provenance": [],
      "authorship_tag": "ABX9TyMtkjtfBEEP1lA59DSDQIxo",
      "include_colab_link": true
    },
    "kernelspec": {
      "name": "python3",
      "display_name": "Python 3"
    },
    "language_info": {
      "name": "python"
    }
  },
  "cells": [
    {
      "cell_type": "markdown",
      "metadata": {
        "id": "view-in-github",
        "colab_type": "text"
      },
      "source": [
        "<a href=\"https://colab.research.google.com/github/AgileDataScientist/data-analysis-bus-data/blob/main/NYCBusDelay.ipynb\" target=\"_parent\"><img src=\"https://colab.research.google.com/assets/colab-badge.svg\" alt=\"Open In Colab\"/></a>"
      ]
    },
    {
      "cell_type": "code",
      "source": [
        "#!cp /content/drive/My Drive/DataAnalystPortfolio/DataAnalysisNYCSchoolBusDelayTime/bus.tar.gz /content/dataset\n",
        "!pip install pyjanitor\n",
        "!pip install jupyter-dash\n",
        "!pip install plotly"
      ],
      "metadata": {
        "colab": {
          "base_uri": "https://localhost:8080/"
        },
        "id": "HnUpTDIAy7Ml",
        "outputId": "a2452543-8f82-429e-d46e-872676f16108"
      },
      "execution_count": null,
      "outputs": [
        {
          "output_type": "stream",
          "name": "stdout",
          "text": [
            "Looking in indexes: https://pypi.org/simple, https://us-python.pkg.dev/colab-wheels/public/simple/\n",
            "Requirement already satisfied: pyjanitor in /usr/local/lib/python3.7/dist-packages (0.23.1)\n",
            "Requirement already satisfied: multipledispatch in /usr/local/lib/python3.7/dist-packages (from pyjanitor) (0.6.0)\n",
            "Requirement already satisfied: scipy in /usr/local/lib/python3.7/dist-packages (from pyjanitor) (1.7.3)\n",
            "Requirement already satisfied: natsort in /usr/local/lib/python3.7/dist-packages (from pyjanitor) (5.5.0)\n",
            "Requirement already satisfied: pandas-flavor in /usr/local/lib/python3.7/dist-packages (from pyjanitor) (0.2.0)\n",
            "Requirement already satisfied: six in /usr/local/lib/python3.7/dist-packages (from multipledispatch->pyjanitor) (1.15.0)\n",
            "Requirement already satisfied: xarray in /usr/local/lib/python3.7/dist-packages (from pandas-flavor->pyjanitor) (0.20.2)\n",
            "Requirement already satisfied: pandas in /usr/local/lib/python3.7/dist-packages (from pandas-flavor->pyjanitor) (1.3.5)\n",
            "Requirement already satisfied: python-dateutil>=2.7.3 in /usr/local/lib/python3.7/dist-packages (from pandas->pandas-flavor->pyjanitor) (2.8.2)\n",
            "Requirement already satisfied: pytz>=2017.3 in /usr/local/lib/python3.7/dist-packages (from pandas->pandas-flavor->pyjanitor) (2022.6)\n",
            "Requirement already satisfied: numpy>=1.17.3 in /usr/local/lib/python3.7/dist-packages (from pandas->pandas-flavor->pyjanitor) (1.21.6)\n",
            "Requirement already satisfied: typing-extensions>=3.7 in /usr/local/lib/python3.7/dist-packages (from xarray->pandas-flavor->pyjanitor) (4.1.1)\n",
            "Requirement already satisfied: importlib-metadata in /usr/local/lib/python3.7/dist-packages (from xarray->pandas-flavor->pyjanitor) (4.13.0)\n",
            "Requirement already satisfied: zipp>=0.5 in /usr/local/lib/python3.7/dist-packages (from importlib-metadata->xarray->pandas-flavor->pyjanitor) (3.10.0)\n",
            "Looking in indexes: https://pypi.org/simple, https://us-python.pkg.dev/colab-wheels/public/simple/\n",
            "Requirement already satisfied: jupyter-dash in /usr/local/lib/python3.7/dist-packages (0.4.2)\n",
            "Requirement already satisfied: flask in /usr/local/lib/python3.7/dist-packages (from jupyter-dash) (1.1.4)\n",
            "Requirement already satisfied: nest-asyncio in /usr/local/lib/python3.7/dist-packages (from jupyter-dash) (1.5.6)\n",
            "Requirement already satisfied: requests in /usr/local/lib/python3.7/dist-packages (from jupyter-dash) (2.23.0)\n",
            "Requirement already satisfied: ipykernel in /usr/local/lib/python3.7/dist-packages (from jupyter-dash) (5.3.4)\n",
            "Requirement already satisfied: dash in /usr/local/lib/python3.7/dist-packages (from jupyter-dash) (2.7.0)\n",
            "Requirement already satisfied: ipython in /usr/local/lib/python3.7/dist-packages (from jupyter-dash) (7.9.0)\n",
            "Requirement already satisfied: ansi2html in /usr/local/lib/python3.7/dist-packages (from jupyter-dash) (1.8.0)\n",
            "Requirement already satisfied: retrying in /usr/local/lib/python3.7/dist-packages (from jupyter-dash) (1.3.3)\n",
            "Requirement already satisfied: importlib-metadata in /usr/local/lib/python3.7/dist-packages (from ansi2html->jupyter-dash) (4.13.0)\n",
            "Requirement already satisfied: dash-html-components==2.0.0 in /usr/local/lib/python3.7/dist-packages (from dash->jupyter-dash) (2.0.0)\n",
            "Requirement already satisfied: dash-core-components==2.0.0 in /usr/local/lib/python3.7/dist-packages (from dash->jupyter-dash) (2.0.0)\n",
            "Requirement already satisfied: dash-table==5.0.0 in /usr/local/lib/python3.7/dist-packages (from dash->jupyter-dash) (5.0.0)\n",
            "Requirement already satisfied: plotly>=5.0.0 in /usr/local/lib/python3.7/dist-packages (from dash->jupyter-dash) (5.5.0)\n",
            "Requirement already satisfied: Werkzeug<2.0,>=0.15 in /usr/local/lib/python3.7/dist-packages (from flask->jupyter-dash) (1.0.1)\n",
            "Requirement already satisfied: itsdangerous<2.0,>=0.24 in /usr/local/lib/python3.7/dist-packages (from flask->jupyter-dash) (1.1.0)\n",
            "Requirement already satisfied: Jinja2<3.0,>=2.10.1 in /usr/local/lib/python3.7/dist-packages (from flask->jupyter-dash) (2.11.3)\n",
            "Requirement already satisfied: click<8.0,>=5.1 in /usr/local/lib/python3.7/dist-packages (from flask->jupyter-dash) (7.1.2)\n",
            "Requirement already satisfied: MarkupSafe>=0.23 in /usr/local/lib/python3.7/dist-packages (from Jinja2<3.0,>=2.10.1->flask->jupyter-dash) (2.0.1)\n",
            "Requirement already satisfied: tenacity>=6.2.0 in /usr/local/lib/python3.7/dist-packages (from plotly>=5.0.0->dash->jupyter-dash) (8.1.0)\n",
            "Requirement already satisfied: six in /usr/local/lib/python3.7/dist-packages (from plotly>=5.0.0->dash->jupyter-dash) (1.15.0)\n",
            "Requirement already satisfied: typing-extensions>=3.6.4 in /usr/local/lib/python3.7/dist-packages (from importlib-metadata->ansi2html->jupyter-dash) (4.1.1)\n",
            "Requirement already satisfied: zipp>=0.5 in /usr/local/lib/python3.7/dist-packages (from importlib-metadata->ansi2html->jupyter-dash) (3.10.0)\n",
            "Requirement already satisfied: traitlets>=4.1.0 in /usr/local/lib/python3.7/dist-packages (from ipykernel->jupyter-dash) (5.1.1)\n",
            "Requirement already satisfied: tornado>=4.2 in /usr/local/lib/python3.7/dist-packages (from ipykernel->jupyter-dash) (6.0.4)\n",
            "Requirement already satisfied: jupyter-client in /usr/local/lib/python3.7/dist-packages (from ipykernel->jupyter-dash) (6.1.12)\n",
            "Requirement already satisfied: prompt-toolkit<2.1.0,>=2.0.0 in /usr/local/lib/python3.7/dist-packages (from ipython->jupyter-dash) (2.0.10)\n",
            "Requirement already satisfied: backcall in /usr/local/lib/python3.7/dist-packages (from ipython->jupyter-dash) (0.2.0)\n",
            "Requirement already satisfied: jedi>=0.10 in /usr/local/lib/python3.7/dist-packages (from ipython->jupyter-dash) (0.18.1)\n",
            "Requirement already satisfied: pickleshare in /usr/local/lib/python3.7/dist-packages (from ipython->jupyter-dash) (0.7.5)\n",
            "Requirement already satisfied: pexpect in /usr/local/lib/python3.7/dist-packages (from ipython->jupyter-dash) (4.8.0)\n",
            "Requirement already satisfied: pygments in /usr/local/lib/python3.7/dist-packages (from ipython->jupyter-dash) (2.6.1)\n",
            "Requirement already satisfied: setuptools>=18.5 in /usr/local/lib/python3.7/dist-packages (from ipython->jupyter-dash) (57.4.0)\n",
            "Requirement already satisfied: decorator in /usr/local/lib/python3.7/dist-packages (from ipython->jupyter-dash) (4.4.2)\n",
            "Requirement already satisfied: parso<0.9.0,>=0.8.0 in /usr/local/lib/python3.7/dist-packages (from jedi>=0.10->ipython->jupyter-dash) (0.8.3)\n",
            "Requirement already satisfied: wcwidth in /usr/local/lib/python3.7/dist-packages (from prompt-toolkit<2.1.0,>=2.0.0->ipython->jupyter-dash) (0.2.5)\n",
            "Requirement already satisfied: pyzmq>=13 in /usr/local/lib/python3.7/dist-packages (from jupyter-client->ipykernel->jupyter-dash) (23.2.1)\n",
            "Requirement already satisfied: jupyter-core>=4.6.0 in /usr/local/lib/python3.7/dist-packages (from jupyter-client->ipykernel->jupyter-dash) (4.11.2)\n",
            "Requirement already satisfied: python-dateutil>=2.1 in /usr/local/lib/python3.7/dist-packages (from jupyter-client->ipykernel->jupyter-dash) (2.8.2)\n",
            "Requirement already satisfied: ptyprocess>=0.5 in /usr/local/lib/python3.7/dist-packages (from pexpect->ipython->jupyter-dash) (0.7.0)\n",
            "Requirement already satisfied: idna<3,>=2.5 in /usr/local/lib/python3.7/dist-packages (from requests->jupyter-dash) (2.10)\n",
            "Requirement already satisfied: chardet<4,>=3.0.2 in /usr/local/lib/python3.7/dist-packages (from requests->jupyter-dash) (3.0.4)\n",
            "Requirement already satisfied: certifi>=2017.4.17 in /usr/local/lib/python3.7/dist-packages (from requests->jupyter-dash) (2022.9.24)\n",
            "Requirement already satisfied: urllib3!=1.25.0,!=1.25.1,<1.26,>=1.21.1 in /usr/local/lib/python3.7/dist-packages (from requests->jupyter-dash) (1.24.3)\n",
            "Looking in indexes: https://pypi.org/simple, https://us-python.pkg.dev/colab-wheels/public/simple/\n",
            "Requirement already satisfied: plotly in /usr/local/lib/python3.7/dist-packages (5.5.0)\n",
            "Requirement already satisfied: tenacity>=6.2.0 in /usr/local/lib/python3.7/dist-packages (from plotly) (8.1.0)\n",
            "Requirement already satisfied: six in /usr/local/lib/python3.7/dist-packages (from plotly) (1.15.0)\n"
          ]
        }
      ]
    },
    {
      "cell_type": "markdown",
      "source": [
        "# **NYC School Bus Delay Data**"
      ],
      "metadata": {
        "id": "cFNLxwW12SrG"
      }
    },
    {
      "cell_type": "code",
      "execution_count": null,
      "metadata": {
        "colab": {
          "base_uri": "https://localhost:8080/"
        },
        "id": "q6NZ4PBAwQ0_",
        "outputId": "7c5f4a99-ff8d-4e9f-f403-c247f04c04b3"
      },
      "outputs": [
        {
          "output_type": "stream",
          "name": "stdout",
          "text": [
            "Drive already mounted at /content/myDrive; to attempt to forcibly remount, call drive.mount(\"/content/myDrive\", force_remount=True).\n"
          ]
        }
      ],
      "source": [
        "import pandas as pd\n",
        "import numpy as np\n",
        "import matplotlib.pyplot as plt\n",
        "import seaborn as sns\n",
        "\n",
        "# Plotly and Dash imports\n",
        "from jupyter_dash import JupyterDash\n",
        "import dash\n",
        "import dash_core_components as dcc\n",
        "import dash_html_components as html\n",
        "from dash.dependencies import Input, Output\n",
        "import dash.dependencies\n",
        "\n",
        "# Python dplyr\n",
        "from janitor import clean_names\n",
        "\n",
        "# String imports\n",
        "import re\n",
        "\n",
        "from google.colab import drive\n",
        "drive.mount('/content/myDrive')"
      ]
    },
    {
      "cell_type": "markdown",
      "source": [
        "## **Read Data**"
      ],
      "metadata": {
        "id": "1KXbtnRj2sEi"
      }
    },
    {
      "cell_type": "code",
      "source": [
        "#bus_data = pd.read_csv('/content/myDrive/MyDrive/Data Analyst Portfolio/Data Analysis NYC School Bus Delay Time/Bus_Breakdown_and_Delays.csv')\n",
        "bus_data = pd.read_csv('/content/sample_data/Bus_Breakdown_and_Delays.csv', index_col='Occurred_On', parse_dates=True)\n",
        "#bus_data = pd.read_csv('/content/sample_data/Bus_Breakdown_and_Delays.csv')\n",
        "\n",
        "# Clean up feature names\n",
        "bus_data = clean_names(bus_data) \n",
        "\n",
        "bus_data.head()"
      ],
      "metadata": {
        "colab": {
          "base_uri": "https://localhost:8080/",
          "height": 510
        },
        "id": "G5Y2NMuBwy1d",
        "outputId": "3ac8b917-5b50-456c-f217-095b57a8a62a"
      },
      "execution_count": null,
      "outputs": [
        {
          "output_type": "stream",
          "name": "stderr",
          "text": [
            "/usr/local/lib/python3.7/dist-packages/IPython/core/interactiveshell.py:3326: DtypeWarning: Columns (17) have mixed types.Specify dtype option on import or set low_memory=False.\n",
            "  exec(code_obj, self.user_global_ns, self.user_ns)\n"
          ]
        },
        {
          "output_type": "execute_result",
          "data": {
            "text/plain": [
              "                    school_year  busbreakdown_id           run_type bus_no  \\\n",
              "Occurred_On                                                                  \n",
              "2015-11-05 08:10:00   2015-2016          1227538  Special Ed AM Run   2621   \n",
              "2015-11-05 08:10:00   2015-2016          1227539  Special Ed AM Run   1260   \n",
              "2015-11-05 08:09:00   2015-2016          1227540           Pre-K/EI    418   \n",
              "2015-11-05 08:12:00   2015-2016          1227541  Special Ed AM Run   4522   \n",
              "2015-11-05 08:13:00   2015-2016          1227542  Special Ed AM Run   3124   \n",
              "\n",
              "                    route_number         reason schools_serviced  \\\n",
              "Occurred_On                                                        \n",
              "2015-11-05 08:10:00         J711  Heavy Traffic            75003   \n",
              "2015-11-05 08:10:00         M351  Heavy Traffic            06716   \n",
              "2015-11-05 08:09:00            3  Heavy Traffic             C445   \n",
              "2015-11-05 08:12:00         M271  Heavy Traffic            02699   \n",
              "2015-11-05 08:13:00         M373  Heavy Traffic            02116   \n",
              "\n",
              "                                 created_on        boro  \\\n",
              "Occurred_On                                               \n",
              "2015-11-05 08:10:00  11/05/2015 08:12:00 AM  New Jersey   \n",
              "2015-11-05 08:10:00  11/05/2015 08:12:00 AM   Manhattan   \n",
              "2015-11-05 08:09:00  11/05/2015 08:13:00 AM       Bronx   \n",
              "2015-11-05 08:12:00  11/05/2015 08:14:00 AM   Manhattan   \n",
              "2015-11-05 08:13:00  11/05/2015 08:14:00 AM   Manhattan   \n",
              "\n",
              "                              bus_company_name how_long_delayed  \\\n",
              "Occurred_On                                                       \n",
              "2015-11-05 08:10:00  RELIANT TRANS, INC. (B232              NaN   \n",
              "2015-11-05 08:10:00  HOYT TRANSPORTATION CORP.            20MNS   \n",
              "2015-11-05 08:09:00               G.V.C., LTD.            15MIN   \n",
              "2015-11-05 08:12:00  RELIANT TRANS, INC. (B232           15 MIN   \n",
              "2015-11-05 08:13:00  RELIANT TRANS, INC. (B232              NaN   \n",
              "\n",
              "                    number_of_students_on_the_bus  \\\n",
              "Occurred_On                                         \n",
              "2015-11-05 08:10:00                            11   \n",
              "2015-11-05 08:10:00                             2   \n",
              "2015-11-05 08:09:00                             8   \n",
              "2015-11-05 08:12:00                             6   \n",
              "2015-11-05 08:13:00                             6   \n",
              "\n",
              "                    has_contractor_notified_schools  \\\n",
              "Occurred_On                                           \n",
              "2015-11-05 08:10:00                             Yes   \n",
              "2015-11-05 08:10:00                             Yes   \n",
              "2015-11-05 08:09:00                             Yes   \n",
              "2015-11-05 08:12:00                              No   \n",
              "2015-11-05 08:13:00                              No   \n",
              "\n",
              "                    has_contractor_notified_parents have_you_alerted_opt  \\\n",
              "Occurred_On                                                                \n",
              "2015-11-05 08:10:00                              No                  Yes   \n",
              "2015-11-05 08:10:00                             Yes                   No   \n",
              "2015-11-05 08:09:00                             Yes                  Yes   \n",
              "2015-11-05 08:12:00                              No                   No   \n",
              "2015-11-05 08:13:00                              No                   No   \n",
              "\n",
              "                                informed_on incident_number  \\\n",
              "Occurred_On                                                   \n",
              "2015-11-05 08:10:00  11/05/2015 08:12:00 AM             NaN   \n",
              "2015-11-05 08:10:00  11/05/2015 08:12:00 AM             NaN   \n",
              "2015-11-05 08:09:00  11/05/2015 08:13:00 AM             NaN   \n",
              "2015-11-05 08:12:00  11/05/2015 08:14:00 AM             NaN   \n",
              "2015-11-05 08:13:00  11/05/2015 08:14:00 AM             NaN   \n",
              "\n",
              "                            last_updated_on breakdown_or_running_late  \\\n",
              "Occurred_On                                                             \n",
              "2015-11-05 08:10:00  11/05/2015 08:12:14 AM              Running Late   \n",
              "2015-11-05 08:10:00  11/05/2015 08:13:34 AM              Running Late   \n",
              "2015-11-05 08:09:00  11/05/2015 08:13:22 AM              Running Late   \n",
              "2015-11-05 08:12:00  11/05/2015 08:14:04 AM              Running Late   \n",
              "2015-11-05 08:13:00  11/05/2015 08:14:08 AM              Running Late   \n",
              "\n",
              "                    school_age_or_prek  \n",
              "Occurred_On                             \n",
              "2015-11-05 08:10:00         School-Age  \n",
              "2015-11-05 08:10:00         School-Age  \n",
              "2015-11-05 08:09:00              Pre-K  \n",
              "2015-11-05 08:12:00         School-Age  \n",
              "2015-11-05 08:13:00         School-Age  "
            ],
            "text/html": [
              "\n",
              "  <div id=\"df-1be3e675-088f-405f-a847-ec89fed73686\">\n",
              "    <div class=\"colab-df-container\">\n",
              "      <div>\n",
              "<style scoped>\n",
              "    .dataframe tbody tr th:only-of-type {\n",
              "        vertical-align: middle;\n",
              "    }\n",
              "\n",
              "    .dataframe tbody tr th {\n",
              "        vertical-align: top;\n",
              "    }\n",
              "\n",
              "    .dataframe thead th {\n",
              "        text-align: right;\n",
              "    }\n",
              "</style>\n",
              "<table border=\"1\" class=\"dataframe\">\n",
              "  <thead>\n",
              "    <tr style=\"text-align: right;\">\n",
              "      <th></th>\n",
              "      <th>school_year</th>\n",
              "      <th>busbreakdown_id</th>\n",
              "      <th>run_type</th>\n",
              "      <th>bus_no</th>\n",
              "      <th>route_number</th>\n",
              "      <th>reason</th>\n",
              "      <th>schools_serviced</th>\n",
              "      <th>created_on</th>\n",
              "      <th>boro</th>\n",
              "      <th>bus_company_name</th>\n",
              "      <th>how_long_delayed</th>\n",
              "      <th>number_of_students_on_the_bus</th>\n",
              "      <th>has_contractor_notified_schools</th>\n",
              "      <th>has_contractor_notified_parents</th>\n",
              "      <th>have_you_alerted_opt</th>\n",
              "      <th>informed_on</th>\n",
              "      <th>incident_number</th>\n",
              "      <th>last_updated_on</th>\n",
              "      <th>breakdown_or_running_late</th>\n",
              "      <th>school_age_or_prek</th>\n",
              "    </tr>\n",
              "    <tr>\n",
              "      <th>Occurred_On</th>\n",
              "      <th></th>\n",
              "      <th></th>\n",
              "      <th></th>\n",
              "      <th></th>\n",
              "      <th></th>\n",
              "      <th></th>\n",
              "      <th></th>\n",
              "      <th></th>\n",
              "      <th></th>\n",
              "      <th></th>\n",
              "      <th></th>\n",
              "      <th></th>\n",
              "      <th></th>\n",
              "      <th></th>\n",
              "      <th></th>\n",
              "      <th></th>\n",
              "      <th></th>\n",
              "      <th></th>\n",
              "      <th></th>\n",
              "      <th></th>\n",
              "    </tr>\n",
              "  </thead>\n",
              "  <tbody>\n",
              "    <tr>\n",
              "      <th>2015-11-05 08:10:00</th>\n",
              "      <td>2015-2016</td>\n",
              "      <td>1227538</td>\n",
              "      <td>Special Ed AM Run</td>\n",
              "      <td>2621</td>\n",
              "      <td>J711</td>\n",
              "      <td>Heavy Traffic</td>\n",
              "      <td>75003</td>\n",
              "      <td>11/05/2015 08:12:00 AM</td>\n",
              "      <td>New Jersey</td>\n",
              "      <td>RELIANT TRANS, INC. (B232</td>\n",
              "      <td>NaN</td>\n",
              "      <td>11</td>\n",
              "      <td>Yes</td>\n",
              "      <td>No</td>\n",
              "      <td>Yes</td>\n",
              "      <td>11/05/2015 08:12:00 AM</td>\n",
              "      <td>NaN</td>\n",
              "      <td>11/05/2015 08:12:14 AM</td>\n",
              "      <td>Running Late</td>\n",
              "      <td>School-Age</td>\n",
              "    </tr>\n",
              "    <tr>\n",
              "      <th>2015-11-05 08:10:00</th>\n",
              "      <td>2015-2016</td>\n",
              "      <td>1227539</td>\n",
              "      <td>Special Ed AM Run</td>\n",
              "      <td>1260</td>\n",
              "      <td>M351</td>\n",
              "      <td>Heavy Traffic</td>\n",
              "      <td>06716</td>\n",
              "      <td>11/05/2015 08:12:00 AM</td>\n",
              "      <td>Manhattan</td>\n",
              "      <td>HOYT TRANSPORTATION CORP.</td>\n",
              "      <td>20MNS</td>\n",
              "      <td>2</td>\n",
              "      <td>Yes</td>\n",
              "      <td>Yes</td>\n",
              "      <td>No</td>\n",
              "      <td>11/05/2015 08:12:00 AM</td>\n",
              "      <td>NaN</td>\n",
              "      <td>11/05/2015 08:13:34 AM</td>\n",
              "      <td>Running Late</td>\n",
              "      <td>School-Age</td>\n",
              "    </tr>\n",
              "    <tr>\n",
              "      <th>2015-11-05 08:09:00</th>\n",
              "      <td>2015-2016</td>\n",
              "      <td>1227540</td>\n",
              "      <td>Pre-K/EI</td>\n",
              "      <td>418</td>\n",
              "      <td>3</td>\n",
              "      <td>Heavy Traffic</td>\n",
              "      <td>C445</td>\n",
              "      <td>11/05/2015 08:13:00 AM</td>\n",
              "      <td>Bronx</td>\n",
              "      <td>G.V.C., LTD.</td>\n",
              "      <td>15MIN</td>\n",
              "      <td>8</td>\n",
              "      <td>Yes</td>\n",
              "      <td>Yes</td>\n",
              "      <td>Yes</td>\n",
              "      <td>11/05/2015 08:13:00 AM</td>\n",
              "      <td>NaN</td>\n",
              "      <td>11/05/2015 08:13:22 AM</td>\n",
              "      <td>Running Late</td>\n",
              "      <td>Pre-K</td>\n",
              "    </tr>\n",
              "    <tr>\n",
              "      <th>2015-11-05 08:12:00</th>\n",
              "      <td>2015-2016</td>\n",
              "      <td>1227541</td>\n",
              "      <td>Special Ed AM Run</td>\n",
              "      <td>4522</td>\n",
              "      <td>M271</td>\n",
              "      <td>Heavy Traffic</td>\n",
              "      <td>02699</td>\n",
              "      <td>11/05/2015 08:14:00 AM</td>\n",
              "      <td>Manhattan</td>\n",
              "      <td>RELIANT TRANS, INC. (B232</td>\n",
              "      <td>15 MIN</td>\n",
              "      <td>6</td>\n",
              "      <td>No</td>\n",
              "      <td>No</td>\n",
              "      <td>No</td>\n",
              "      <td>11/05/2015 08:14:00 AM</td>\n",
              "      <td>NaN</td>\n",
              "      <td>11/05/2015 08:14:04 AM</td>\n",
              "      <td>Running Late</td>\n",
              "      <td>School-Age</td>\n",
              "    </tr>\n",
              "    <tr>\n",
              "      <th>2015-11-05 08:13:00</th>\n",
              "      <td>2015-2016</td>\n",
              "      <td>1227542</td>\n",
              "      <td>Special Ed AM Run</td>\n",
              "      <td>3124</td>\n",
              "      <td>M373</td>\n",
              "      <td>Heavy Traffic</td>\n",
              "      <td>02116</td>\n",
              "      <td>11/05/2015 08:14:00 AM</td>\n",
              "      <td>Manhattan</td>\n",
              "      <td>RELIANT TRANS, INC. (B232</td>\n",
              "      <td>NaN</td>\n",
              "      <td>6</td>\n",
              "      <td>No</td>\n",
              "      <td>No</td>\n",
              "      <td>No</td>\n",
              "      <td>11/05/2015 08:14:00 AM</td>\n",
              "      <td>NaN</td>\n",
              "      <td>11/05/2015 08:14:08 AM</td>\n",
              "      <td>Running Late</td>\n",
              "      <td>School-Age</td>\n",
              "    </tr>\n",
              "  </tbody>\n",
              "</table>\n",
              "</div>\n",
              "      <button class=\"colab-df-convert\" onclick=\"convertToInteractive('df-1be3e675-088f-405f-a847-ec89fed73686')\"\n",
              "              title=\"Convert this dataframe to an interactive table.\"\n",
              "              style=\"display:none;\">\n",
              "        \n",
              "  <svg xmlns=\"http://www.w3.org/2000/svg\" height=\"24px\"viewBox=\"0 0 24 24\"\n",
              "       width=\"24px\">\n",
              "    <path d=\"M0 0h24v24H0V0z\" fill=\"none\"/>\n",
              "    <path d=\"M18.56 5.44l.94 2.06.94-2.06 2.06-.94-2.06-.94-.94-2.06-.94 2.06-2.06.94zm-11 1L8.5 8.5l.94-2.06 2.06-.94-2.06-.94L8.5 2.5l-.94 2.06-2.06.94zm10 10l.94 2.06.94-2.06 2.06-.94-2.06-.94-.94-2.06-.94 2.06-2.06.94z\"/><path d=\"M17.41 7.96l-1.37-1.37c-.4-.4-.92-.59-1.43-.59-.52 0-1.04.2-1.43.59L10.3 9.45l-7.72 7.72c-.78.78-.78 2.05 0 2.83L4 21.41c.39.39.9.59 1.41.59.51 0 1.02-.2 1.41-.59l7.78-7.78 2.81-2.81c.8-.78.8-2.07 0-2.86zM5.41 20L4 18.59l7.72-7.72 1.47 1.35L5.41 20z\"/>\n",
              "  </svg>\n",
              "      </button>\n",
              "      \n",
              "  <style>\n",
              "    .colab-df-container {\n",
              "      display:flex;\n",
              "      flex-wrap:wrap;\n",
              "      gap: 12px;\n",
              "    }\n",
              "\n",
              "    .colab-df-convert {\n",
              "      background-color: #E8F0FE;\n",
              "      border: none;\n",
              "      border-radius: 50%;\n",
              "      cursor: pointer;\n",
              "      display: none;\n",
              "      fill: #1967D2;\n",
              "      height: 32px;\n",
              "      padding: 0 0 0 0;\n",
              "      width: 32px;\n",
              "    }\n",
              "\n",
              "    .colab-df-convert:hover {\n",
              "      background-color: #E2EBFA;\n",
              "      box-shadow: 0px 1px 2px rgba(60, 64, 67, 0.3), 0px 1px 3px 1px rgba(60, 64, 67, 0.15);\n",
              "      fill: #174EA6;\n",
              "    }\n",
              "\n",
              "    [theme=dark] .colab-df-convert {\n",
              "      background-color: #3B4455;\n",
              "      fill: #D2E3FC;\n",
              "    }\n",
              "\n",
              "    [theme=dark] .colab-df-convert:hover {\n",
              "      background-color: #434B5C;\n",
              "      box-shadow: 0px 1px 3px 1px rgba(0, 0, 0, 0.15);\n",
              "      filter: drop-shadow(0px 1px 2px rgba(0, 0, 0, 0.3));\n",
              "      fill: #FFFFFF;\n",
              "    }\n",
              "  </style>\n",
              "\n",
              "      <script>\n",
              "        const buttonEl =\n",
              "          document.querySelector('#df-1be3e675-088f-405f-a847-ec89fed73686 button.colab-df-convert');\n",
              "        buttonEl.style.display =\n",
              "          google.colab.kernel.accessAllowed ? 'block' : 'none';\n",
              "\n",
              "        async function convertToInteractive(key) {\n",
              "          const element = document.querySelector('#df-1be3e675-088f-405f-a847-ec89fed73686');\n",
              "          const dataTable =\n",
              "            await google.colab.kernel.invokeFunction('convertToInteractive',\n",
              "                                                     [key], {});\n",
              "          if (!dataTable) return;\n",
              "\n",
              "          const docLinkHtml = 'Like what you see? Visit the ' +\n",
              "            '<a target=\"_blank\" href=https://colab.research.google.com/notebooks/data_table.ipynb>data table notebook</a>'\n",
              "            + ' to learn more about interactive tables.';\n",
              "          element.innerHTML = '';\n",
              "          dataTable['output_type'] = 'display_data';\n",
              "          await google.colab.output.renderOutput(dataTable, element);\n",
              "          const docLink = document.createElement('div');\n",
              "          docLink.innerHTML = docLinkHtml;\n",
              "          element.appendChild(docLink);\n",
              "        }\n",
              "      </script>\n",
              "    </div>\n",
              "  </div>\n",
              "  "
            ]
          },
          "metadata": {},
          "execution_count": 382
        }
      ]
    },
    {
      "cell_type": "code",
      "source": [
        "bus_data.info()"
      ],
      "metadata": {
        "colab": {
          "base_uri": "https://localhost:8080/"
        },
        "id": "AI5d3vlwxuYR",
        "outputId": "89a4ee1f-79ac-4715-fcea-991c72881778"
      },
      "execution_count": null,
      "outputs": [
        {
          "output_type": "stream",
          "name": "stdout",
          "text": [
            "<class 'pandas.core.frame.DataFrame'>\n",
            "DatetimeIndex: 529695 entries, 2015-11-05 08:10:00 to 2022-11-04 05:45:00\n",
            "Data columns (total 20 columns):\n",
            " #   Column                           Non-Null Count   Dtype \n",
            "---  ------                           --------------   ----- \n",
            " 0   school_year                      529695 non-null  object\n",
            " 1   busbreakdown_id                  529695 non-null  int64 \n",
            " 2   run_type                         503672 non-null  object\n",
            " 3   bus_no                           529682 non-null  object\n",
            " 4   route_number                     529688 non-null  object\n",
            " 5   reason                           529693 non-null  object\n",
            " 6   schools_serviced                 529688 non-null  object\n",
            " 7   created_on                       529695 non-null  object\n",
            " 8   boro                             518481 non-null  object\n",
            " 9   bus_company_name                 529695 non-null  object\n",
            " 10  how_long_delayed                 476328 non-null  object\n",
            " 11  number_of_students_on_the_bus    529695 non-null  object\n",
            " 12  has_contractor_notified_schools  529695 non-null  object\n",
            " 13  has_contractor_notified_parents  529695 non-null  object\n",
            " 14  have_you_alerted_opt             529695 non-null  object\n",
            " 15  informed_on                      529695 non-null  object\n",
            " 16  incident_number                  10870 non-null   object\n",
            " 17  last_updated_on                  529695 non-null  object\n",
            " 18  breakdown_or_running_late        529695 non-null  object\n",
            " 19  school_age_or_prek               529695 non-null  object\n",
            "dtypes: int64(1), object(19)\n",
            "memory usage: 84.9+ MB\n"
          ]
        }
      ]
    },
    {
      "cell_type": "code",
      "source": [
        "# Missing data\n",
        "bus_data.isnull().sum()"
      ],
      "metadata": {
        "colab": {
          "base_uri": "https://localhost:8080/"
        },
        "id": "2fdZJ-qkyOCG",
        "outputId": "c59e402c-2018-462f-89a1-69ddd16829a1"
      },
      "execution_count": null,
      "outputs": [
        {
          "output_type": "execute_result",
          "data": {
            "text/plain": [
              "school_year                             0\n",
              "busbreakdown_id                         0\n",
              "run_type                            26023\n",
              "bus_no                                 13\n",
              "route_number                            7\n",
              "reason                                  2\n",
              "schools_serviced                        7\n",
              "created_on                              0\n",
              "boro                                11214\n",
              "bus_company_name                        0\n",
              "how_long_delayed                    53367\n",
              "number_of_students_on_the_bus           0\n",
              "has_contractor_notified_schools         0\n",
              "has_contractor_notified_parents         0\n",
              "have_you_alerted_opt                    0\n",
              "informed_on                             0\n",
              "incident_number                    518825\n",
              "last_updated_on                         0\n",
              "breakdown_or_running_late               0\n",
              "school_age_or_prek                      0\n",
              "dtype: int64"
            ]
          },
          "metadata": {},
          "execution_count": 384
        }
      ]
    },
    {
      "cell_type": "code",
      "source": [
        "# Unique values feature\n",
        "bus_data.nunique()"
      ],
      "metadata": {
        "colab": {
          "base_uri": "https://localhost:8080/"
        },
        "id": "rpL6vLoox9cz",
        "outputId": "35cfdff5-631e-4248-eade-1d9c0b94a625"
      },
      "execution_count": null,
      "outputs": [
        {
          "output_type": "execute_result",
          "data": {
            "text/plain": [
              "school_year                             8\n",
              "busbreakdown_id                    529695\n",
              "run_type                               10\n",
              "bus_no                              17413\n",
              "route_number                        17109\n",
              "reason                                 10\n",
              "schools_serviced                    29909\n",
              "created_on                         254456\n",
              "boro                                   11\n",
              "bus_company_name                      135\n",
              "how_long_delayed                     1877\n",
              "number_of_students_on_the_bus         329\n",
              "has_contractor_notified_schools         2\n",
              "has_contractor_notified_parents         2\n",
              "have_you_alerted_opt                    2\n",
              "informed_on                        254456\n",
              "incident_number                      7869\n",
              "last_updated_on                    189254\n",
              "breakdown_or_running_late               2\n",
              "school_age_or_prek                      2\n",
              "dtype: int64"
            ]
          },
          "metadata": {},
          "execution_count": 385
        }
      ]
    },
    {
      "cell_type": "code",
      "source": [
        "def bar_plot(df, column, horizontal = False, sort_by_index=False):\n",
        "\n",
        "  if sort_by_index:\n",
        "    data = df[column].value_counts(ascending=False).sort_index()\n",
        "  else: \n",
        "    data = df[column].value_counts(ascending = True)\n",
        "\n",
        "  if horizontal:\n",
        "    plt.barh(data.index, \n",
        "             data.values );\n",
        "    plt.xlabel('Frequency Count')\n",
        "  else:\n",
        "    plt.bar(data.index, \n",
        "            data.values );\n",
        "    plt.ylabel('Frequency Count')\n",
        "  plt.title(column)\n",
        "  plt.rcParams['figure.figsize'] = (10, 5)\n",
        "  plt.tight_layout()\n",
        "  plt.show()"
      ],
      "metadata": {
        "id": "GlNiO69rlBVb"
      },
      "execution_count": null,
      "outputs": []
    },
    {
      "cell_type": "code",
      "source": [
        "bus_data.columns"
      ],
      "metadata": {
        "colab": {
          "base_uri": "https://localhost:8080/"
        },
        "id": "Eh8JtvROy_sr",
        "outputId": "9976d2b6-7634-4cb0-ca96-d0bcc9ef6c0d"
      },
      "execution_count": null,
      "outputs": [
        {
          "output_type": "execute_result",
          "data": {
            "text/plain": [
              "Index(['school_year', 'busbreakdown_id', 'run_type', 'bus_no', 'route_number',\n",
              "       'reason', 'schools_serviced', 'created_on', 'boro', 'bus_company_name',\n",
              "       'how_long_delayed', 'number_of_students_on_the_bus',\n",
              "       'has_contractor_notified_schools', 'has_contractor_notified_parents',\n",
              "       'have_you_alerted_opt', 'informed_on', 'incident_number',\n",
              "       'last_updated_on', 'breakdown_or_running_late', 'school_age_or_prek'],\n",
              "      dtype='object')"
            ]
          },
          "metadata": {},
          "execution_count": 387
        }
      ]
    },
    {
      "cell_type": "markdown",
      "source": [
        "## **SCHOOL YEAR**"
      ],
      "metadata": {
        "id": "Ledj4OeoNGzh"
      }
    },
    {
      "cell_type": "code",
      "source": [
        "# Counts for School Year\n",
        "bar_plot(bus_data, 'school_year', False , True)"
      ],
      "metadata": {
        "colab": {
          "base_uri": "https://localhost:8080/",
          "height": 369
        },
        "id": "HTqZPvVf0Ewi",
        "outputId": "7567f0a1-877c-45a7-a51c-3ca2954af74e"
      },
      "execution_count": null,
      "outputs": [
        {
          "output_type": "display_data",
          "data": {
            "text/plain": [
              "<Figure size 720x360 with 1 Axes>"
            ],
            "image/png": "[encoded data removed]"
          },
          "metadata": {
            "needs_background": "light"
          }
        }
      ]
    },
    {
      "cell_type": "code",
      "source": [
        "bus_data['run_type'].value_counts(dropna=False)"
      ],
      "metadata": {
        "colab": {
          "base_uri": "https://localhost:8080/"
        },
        "id": "l8y2tnpzcbz7",
        "outputId": "06d26395-9bf8-4f80-e417-7a640d32d1dc"
      },
      "execution_count": null,
      "outputs": [
        {
          "output_type": "execute_result",
          "data": {
            "text/plain": [
              "Special Ed AM Run          291163\n",
              "Special Ed PM Run           76069\n",
              "Pre-K/EI                    60200\n",
              "General Ed AM Run           58422\n",
              "NaN                         26023\n",
              "General Ed PM Run           14092\n",
              "General Ed Field Trip        1436\n",
              "Special Ed Field Trip        1436\n",
              "Project Read PM Run           710\n",
              "Project Read AM Run           139\n",
              "Project Read Field Trip         5\n",
              "Name: run_type, dtype: int64"
            ]
          },
          "metadata": {},
          "execution_count": 389
        }
      ]
    },
    {
      "cell_type": "code",
      "source": [
        "# Run Type counts\n",
        "bar_plot(bus_data, 'run_type', True, False)"
      ],
      "metadata": {
        "colab": {
          "base_uri": "https://localhost:8080/",
          "height": 369
        },
        "id": "ngppLcD8lak6",
        "outputId": "0a549794-ba98-48e1-d9e7-143b8f2ef880"
      },
      "execution_count": null,
      "outputs": [
        {
          "output_type": "display_data",
          "data": {
            "text/plain": [
              "<Figure size 720x360 with 1 Axes>"
            ],
            "image/png": "[encoded data removed]"
          },
          "metadata": {
            "needs_background": "light"
          }
        }
      ]
    },
    {
      "cell_type": "code",
      "source": [
        "# Counts of reason for lateness\n",
        "bar_plot(bus_data, 'reason', True, False)"
      ],
      "metadata": {
        "colab": {
          "base_uri": "https://localhost:8080/",
          "height": 369
        },
        "id": "larnU7131SDD",
        "outputId": "700da5f1-0b93-44ff-d361-bd6d19f84279"
      },
      "execution_count": null,
      "outputs": [
        {
          "output_type": "display_data",
          "data": {
            "text/plain": [
              "<Figure size 720x360 with 1 Axes>"
            ],
            "image/png": "[encoded data removed]"
          },
          "metadata": {
            "needs_background": "light"
          }
        }
      ]
    },
    {
      "cell_type": "markdown",
      "source": [
        "## **5 BOROUGHS**"
      ],
      "metadata": {
        "id": "2-rBabKFOBo4"
      }
    },
    {
      "cell_type": "code",
      "source": [
        "# Run_type counts \n",
        "bar_plot(bus_data, 'boro', True, False)"
      ],
      "metadata": {
        "colab": {
          "base_uri": "https://localhost:8080/",
          "height": 369
        },
        "id": "BPp9gPxqkiz8",
        "outputId": "dda16933-012d-4129-f0a5-713bd6a10a38"
      },
      "execution_count": null,
      "outputs": [
        {
          "output_type": "display_data",
          "data": {
            "text/plain": [
              "<Figure size 720x360 with 1 Axes>"
            ],
            "image/png": "[encoded data removed]"
          },
          "metadata": {
            "needs_background": "light"
          }
        }
      ]
    },
    {
      "cell_type": "code",
      "source": [
        "# Dictionary to map boroughs to the 5 NYC boroughs and codes all others to Outer Region\n",
        "borough_map = {'Manhattan':    'Manhattan', \n",
        "               'Bronx':        'Bronx', \n",
        "               'Brooklyn':     'Brooklyn', \n",
        "               'Queens':       'Queens', \n",
        "               'Staten Island':   'Staten Island',\n",
        "               'Nassau County':   'Outer Region', \n",
        "               'Westchester':     'Outer Region', \n",
        "               'New Jersey':      'Outer Region', \n",
        "               'All Boroughs':    'Outer Region',\n",
        "               'Rockland County': 'Outer Region', \n",
        "               'Connecticut': 'Outer Region',\n",
        "               'NaN': 'Outer Region'\n",
        "               }\n",
        "\n",
        "bus_data['borough_mapped'] = bus_data['boro'].fillna('NaN').map(borough_map)\n",
        "bus_data['borough_mapped'].value_counts(dropna=False)"
      ],
      "metadata": {
        "colab": {
          "base_uri": "https://localhost:8080/"
        },
        "id": "PzMnlXkJ-wyG",
        "outputId": "b6a99b2d-ebe7-4a61-a4fe-8c5447b91395"
      },
      "execution_count": null,
      "outputs": [
        {
          "output_type": "execute_result",
          "data": {
            "text/plain": [
              "Manhattan        132470\n",
              "Bronx            130393\n",
              "Brooklyn         121660\n",
              "Queens            77226\n",
              "Outer Region      43094\n",
              "Staten Island     24852\n",
              "Name: borough_mapped, dtype: int64"
            ]
          },
          "metadata": {},
          "execution_count": 393
        }
      ]
    },
    {
      "cell_type": "code",
      "source": [
        "bar_plot(bus_data, 'borough_mapped', True, False)"
      ],
      "metadata": {
        "colab": {
          "base_uri": "https://localhost:8080/",
          "height": 369
        },
        "id": "mdOkLEzsBTQ-",
        "outputId": "18ea38a2-b93b-4669-9ed2-e24e9f65eaee"
      },
      "execution_count": null,
      "outputs": [
        {
          "output_type": "display_data",
          "data": {
            "text/plain": [
              "<Figure size 720x360 with 1 Axes>"
            ],
            "image/png": "[encoded data removed]"
          },
          "metadata": {
            "needs_background": "light"
          }
        }
      ]
    },
    {
      "cell_type": "markdown",
      "source": [
        "## **BUS COMPANY NAME**"
      ],
      "metadata": {
        "id": "nl2PY2GEPBIX"
      }
    },
    {
      "cell_type": "code",
      "source": [
        "bus_data['bus_company_name'].str.lower().value_counts()"
      ],
      "metadata": {
        "colab": {
          "base_uri": "https://localhost:8080/"
        },
        "id": "PbQsXaBYA8C5",
        "outputId": "faafe9a5-a736-4526-8102-7db33160cb88"
      },
      "execution_count": null,
      "outputs": [
        {
          "output_type": "execute_result",
          "data": {
            "text/plain": [
              "leesel transportation corp (b2192)     66488\n",
              "pioneer transportation corp            30959\n",
              "g.v.c., ltd.                           28563\n",
              "boro transit, inc.                     25545\n",
              "reliant transportation, inc (b2321)    23992\n",
              "                                       ...  \n",
              "r & c transit, inc. (b2321)                1\n",
              "alina                                      1\n",
              "l&m bus corp.                              1\n",
              "iy                                         1\n",
              "guillen rodriguez                          1\n",
              "Name: bus_company_name, Length: 132, dtype: int64"
            ]
          },
          "metadata": {},
          "execution_count": 395
        }
      ]
    },
    {
      "cell_type": "code",
      "source": [
        "bus_data['bus_company_name'].str.lower().value_counts().index[0:30]"
      ],
      "metadata": {
        "colab": {
          "base_uri": "https://localhost:8080/"
        },
        "id": "To3tegG_GI8Z",
        "outputId": "45ec7eac-ec75-4053-c41e-b3a0e21766e8"
      },
      "execution_count": null,
      "outputs": [
        {
          "output_type": "execute_result",
          "data": {
            "text/plain": [
              "Index(['leesel transportation corp (b2192)', 'pioneer transportation corp',\n",
              "       'g.v.c., ltd.', 'boro transit, inc.',\n",
              "       'reliant transportation, inc (b2321)', 'van trans llc (b2192)',\n",
              "       'hoyt transportation corp.', 'little richie bus service',\n",
              "       'reliant trans, inc. (b232', 'pride transportation (sch age)',\n",
              "       'allied transit corp.', 'snt bus inc', 'l & m bus corp.',\n",
              "       'pioneer transportation co', 'leesel transp corp (b2192',\n",
              "       'new dawn transit, llc (b2', 'logan bus company inc.',\n",
              "       'empire charter service inc', 'leesel transp corp (b2192)',\n",
              "       'nyc school bus umbrella services', 'g.v.c. ltd. (b2192)',\n",
              "       'new dawn transit, llc (b2321)', 'empire state bus corp.',\n",
              "       'selby transportation', 'jofaz transportation inc.',\n",
              "       'reliant trans, inc. (b2321)', 'don thomas buses, inc. (b2321)',\n",
              "       'quality transportation corp.', 'l & m bus corp (a)',\n",
              "       'don thomas buses, inc.'],\n",
              "      dtype='object')"
            ]
          },
          "metadata": {},
          "execution_count": 396
        }
      ]
    },
    {
      "cell_type": "code",
      "source": [
        "print(bus_data['bus_company_name'][0])\n",
        "\n",
        "re.findall('[a-zA-Z0-9]+\\w', bus_data['bus_company_name'][0])"
      ],
      "metadata": {
        "colab": {
          "base_uri": "https://localhost:8080/"
        },
        "id": "sQejvB8mI24a",
        "outputId": "4a6cf2b4-6776-4369-a193-b95f7d6d38dc"
      },
      "execution_count": null,
      "outputs": [
        {
          "output_type": "stream",
          "name": "stdout",
          "text": [
            "RELIANT TRANS, INC. (B232\n"
          ]
        },
        {
          "output_type": "execute_result",
          "data": {
            "text/plain": [
              "['RELIANT', 'TRANS', 'INC', 'B232']"
            ]
          },
          "metadata": {},
          "execution_count": 397
        }
      ]
    },
    {
      "cell_type": "code",
      "source": [
        "bus_data['bus_company_name'].str.lower().value_counts().index[30:60]"
      ],
      "metadata": {
        "colab": {
          "base_uri": "https://localhost:8080/"
        },
        "id": "Attk-NZTGoAs",
        "outputId": "9ea1ada3-4a4f-43d0-9886-424d01dcc524"
      },
      "execution_count": null,
      "outputs": [
        {
          "output_type": "execute_result",
          "data": {
            "text/plain": [
              "Index(['careful bus', 'b & f skilled inc.(b2192)', 'grandpa`s bus co., inc.',\n",
              "       'little lisa bus co. inc.', 'consolidated bus transit, inc.',\n",
              "       'lorinda enterprises, ltd.', 'lorinda ent. ltd.',\n",
              "       'y & m transit corp (b2192)', 'first steps trans inc. (b2192)',\n",
              "       'mar-can transport co. inc (b2192)', 'mar-can transport co. inc',\n",
              "       'l & m bus corp. (b2192)', 'don thomas buses, inc. (b',\n",
              "       'bobby`s bus co. inc.', 'happy child trans llc (b2',\n",
              "       'phillip bus corp (b2192)', 'pride transportation (sch',\n",
              "       'all american school bus corp.', 'first steps transp inc. (',\n",
              "       'thomas buses, inc. (b2321)', 'consolidated bus trans. i',\n",
              "       'phillips bus service', 'acme bus corp. (b2321)',\n",
              "       'lorissa bus service inc.', 'y & m transit corp (b2192',\n",
              "       'happy child trans llc (b2192)', 'all american school bus c',\n",
              "       'quality transportation co', 'alina services corp.',\n",
              "       'another ride inc.'],\n",
              "      dtype='object')"
            ]
          },
          "metadata": {},
          "execution_count": 398
        }
      ]
    },
    {
      "cell_type": "code",
      "source": [
        "bus_data.groupby('boro')['bus_company_name'].value_counts()"
      ],
      "metadata": {
        "colab": {
          "base_uri": "https://localhost:8080/"
        },
        "id": "0bq4EEq0-dUI",
        "outputId": "e96a37c7-a391-4c71-cc63-7d135620d342"
      },
      "execution_count": null,
      "outputs": [
        {
          "output_type": "execute_result",
          "data": {
            "text/plain": [
              "boro          bus_company_name                   \n",
              "All Boroughs  HOYT TRANSPORTATION CORP.              742\n",
              "              VAN TRANS LLC (B2192)                  308\n",
              "              BORO TRANSIT, INC.                      83\n",
              "              PRIDE TRANSPORTATION (SCH AGE)          67\n",
              "              RELIANT TRANSPORTATION, INC (B2321)     48\n",
              "                                                    ... \n",
              "Westchester   JOFAZ TRANSPORTATION INC.                3\n",
              "              PRIDE TRANSPORTATION (SCH AGE)           2\n",
              "              PRIDE TRANSPORTATION (SCH                1\n",
              "              RELIANT TRANSPORTATION, INC (B2321)      1\n",
              "              THOMAS BUSES, INC. (B2321                1\n",
              "Name: bus_company_name, Length: 473, dtype: int64"
            ]
          },
          "metadata": {},
          "execution_count": 400
        }
      ]
    },
    {
      "cell_type": "markdown",
      "source": [
        "## **INCIDENCE NUMBER**"
      ],
      "metadata": {
        "id": "r8OVx_-gaf9Y"
      }
    },
    {
      "cell_type": "code",
      "source": [
        "bus_data['incident_number'].value_counts(dropna=False)"
      ],
      "metadata": {
        "colab": {
          "base_uri": "https://localhost:8080/"
        },
        "id": "NcAlRnH91HvR",
        "outputId": "142cb795-d043-4e93-cb97-ad2e40485fd2"
      },
      "execution_count": null,
      "outputs": [
        {
          "output_type": "execute_result",
          "data": {
            "text/plain": [
              "NaN           518825\n",
              "X               1043\n",
              "x                118\n",
              "e                 65\n",
              "90558530          33\n",
              "               ...  \n",
              "90267100           1\n",
              "90267079           1\n",
              "90267010           1\n",
              "90266920           1\n",
              "91222837.0         1\n",
              "Name: incident_number, Length: 7870, dtype: int64"
            ]
          },
          "metadata": {},
          "execution_count": 401
        }
      ]
    },
    {
      "cell_type": "code",
      "source": [
        "bus_data['incident_number_yn'] = pd.Series(['Yes' for x in bus_data['incident_number'].fillna('No') if x != 'No'])\n",
        "bus_data['incident_number_yn'].fillna('No', inplace=True)\n",
        "bus_data['incident_number_yn'].value_counts()"
      ],
      "metadata": {
        "colab": {
          "base_uri": "https://localhost:8080/"
        },
        "id": "WoLSUDk0AAwb",
        "outputId": "b2594d94-2090-4d90-93b7-0293301dd95a"
      },
      "execution_count": null,
      "outputs": [
        {
          "output_type": "execute_result",
          "data": {
            "text/plain": [
              "No    529695\n",
              "Name: incident_number_yn, dtype: int64"
            ]
          },
          "metadata": {},
          "execution_count": 402
        }
      ]
    },
    {
      "cell_type": "code",
      "source": [
        "bar_plot(bus_data, 'incident_number_yn', False, True)"
      ],
      "metadata": {
        "colab": {
          "base_uri": "https://localhost:8080/",
          "height": 369
        },
        "id": "_ajoCseTyY_5",
        "outputId": "5cbf7181-4083-4051-9196-9edf34448edd"
      },
      "execution_count": null,
      "outputs": [
        {
          "output_type": "display_data",
          "data": {
            "text/plain": [
              "<Figure size 720x360 with 1 Axes>"
            ],
            "image/png": "[encoded data removed]"
          },
          "metadata": {
            "needs_background": "light"
          }
        }
      ]
    },
    {
      "cell_type": "markdown",
      "source": [
        "## **SCHOOL AGE OR PRE-K**"
      ],
      "metadata": {
        "id": "1QA00o7ha_jk"
      }
    },
    {
      "cell_type": "code",
      "source": [
        "bus_data['school_age_or_prek'].value_counts(dropna=False)"
      ],
      "metadata": {
        "colab": {
          "base_uri": "https://localhost:8080/"
        },
        "id": "bJX27AXnFlU7",
        "outputId": "5de56a5e-4c48-4891-e36c-68e70dcdb229"
      },
      "execution_count": null,
      "outputs": [
        {
          "output_type": "execute_result",
          "data": {
            "text/plain": [
              "School-Age    469495\n",
              "Pre-K          60200\n",
              "Name: school_age_or_prek, dtype: int64"
            ]
          },
          "metadata": {},
          "execution_count": 404
        }
      ]
    },
    {
      "cell_type": "code",
      "source": [
        "bar_plot(bus_data, 'school_age_or_prek')"
      ],
      "metadata": {
        "colab": {
          "base_uri": "https://localhost:8080/",
          "height": 369
        },
        "id": "d76Mi-XckhFo",
        "outputId": "af17216d-2e34-4874-ad39-1348bd0d8d37"
      },
      "execution_count": null,
      "outputs": [
        {
          "output_type": "display_data",
          "data": {
            "text/plain": [
              "<Figure size 720x360 with 1 Axes>"
            ],
            "image/png": "[encoded data removed]"
          },
          "metadata": {
            "needs_background": "light"
          }
        }
      ]
    },
    {
      "cell_type": "markdown",
      "source": [
        "## **HOW LONG DELAYED**\n"
      ],
      "metadata": {
        "id": "g5-vDI1rbF7P"
      }
    },
    {
      "cell_type": "code",
      "source": [
        "bus_data['how_long_delayed'].value_counts(dropna=False)"
      ],
      "metadata": {
        "colab": {
          "base_uri": "https://localhost:8080/"
        },
        "id": "OggBG0zVbqEu",
        "outputId": "fadcc363-013b-41eb-f7a4-79418a323866"
      },
      "execution_count": null,
      "outputs": [
        {
          "output_type": "execute_result",
          "data": {
            "text/plain": [
              "31-45 Min     116145\n",
              "16-30 Min     107832\n",
              "46-60 Min      62185\n",
              "NaN            53367\n",
              "0-15 Min       38306\n",
              "               ...  \n",
              "30min???           1\n",
              "30min??            1\n",
              "39 MINS            1\n",
              "est. 25min         1\n",
              "45 MINIUTE         1\n",
              "Name: how_long_delayed, Length: 1878, dtype: int64"
            ]
          },
          "metadata": {},
          "execution_count": 406
        }
      ]
    },
    {
      "cell_type": "code",
      "source": [
        "bus_data['how_long_delayed'].astype(str)"
      ],
      "metadata": {
        "colab": {
          "base_uri": "https://localhost:8080/"
        },
        "id": "vdU9wOuwf7Di",
        "outputId": "ef254692-759e-41a8-bdaa-36f5501be160"
      },
      "execution_count": null,
      "outputs": [
        {
          "output_type": "execute_result",
          "data": {
            "text/plain": [
              "Occurred_On\n",
              "2015-11-05 08:10:00          nan\n",
              "2015-11-05 08:10:00        20MNS\n",
              "2015-11-05 08:09:00        15MIN\n",
              "2015-11-05 08:12:00       15 MIN\n",
              "2015-11-05 08:13:00          nan\n",
              "                         ...    \n",
              "2022-10-27 07:34:00     0-15 Min\n",
              "2022-10-31 07:38:00    16-30 Min\n",
              "2022-11-03 06:30:00          nan\n",
              "2022-11-04 06:03:00    61-90 Min\n",
              "2022-11-04 05:45:00    61-90 Min\n",
              "Name: how_long_delayed, Length: 529695, dtype: object"
            ]
          },
          "metadata": {},
          "execution_count": 407
        }
      ]
    },
    {
      "cell_type": "code",
      "source": [
        "def how_long_delayed_recode(value):\n",
        "  cleaned_up_value = value.replace('1:40', '100').replace('MI N',' min ').replace('mis', ' min ').replace('MN', ' min ').replace('Min', ' min ').replace('MIN', \" min \").replace('minute', \" min \").replace('/30mi',' 30 min ').replace('one hour', '60 min ').replace('mm','m').replace(\"est.\", \"\").replace('mins', \" min \").replace('min', \" min \")\n",
        "  return cleaned_up_value\n",
        "\n",
        "bus_data[\"delayed_recoded\"] = bus_data['how_long_delayed'].astype(str).apply(how_long_delayed_recode)\n",
        "bus_data[\"delayed_recoded\"].value_counts()"
      ],
      "metadata": {
        "colab": {
          "base_uri": "https://localhost:8080/"
        },
        "id": "1_ZLlniBcar7",
        "outputId": "03d46e31-b90d-45c3-f342-04eb8948c619"
      },
      "execution_count": null,
      "outputs": [
        {
          "output_type": "execute_result",
          "data": {
            "text/plain": [
              "31-45   min          116145\n",
              "16-30   min          107832\n",
              "46-60   min           62185\n",
              "nan                   53367\n",
              "0-15   min            38306\n",
              "                      ...  \n",
              "25 min  30  min           1\n",
              "4104                      1\n",
              "11/10/16                  1\n",
              "100   min  S              1\n",
              "45   min  IUTE            1\n",
              "Name: delayed_recoded, Length: 1656, dtype: int64"
            ]
          },
          "metadata": {},
          "execution_count": 478
        }
      ]
    },
    {
      "cell_type": "code",
      "source": [
        "bus_data['delay_interval_x'] = bus_data['delayed_recoded'].str.extract('([0-9]+-[0-9]+)', expand=False)\n",
        "bus_data['delay_interval_x'].value_counts()"
      ],
      "metadata": {
        "colab": {
          "base_uri": "https://localhost:8080/"
        },
        "id": "3TdCc7dvcbcK",
        "outputId": "bb02318d-c8d7-4c63-9385-e66d3fb67881"
      },
      "execution_count": null,
      "outputs": [
        {
          "output_type": "execute_result",
          "data": {
            "text/plain": [
              "31-45    116145\n",
              "16-30    107832\n",
              "46-60     62185\n",
              "0-15      38306\n",
              "61-90     24017\n",
              "          ...  \n",
              "20-15         1\n",
              "5-1           1\n",
              "10-18         1\n",
              "20-20         1\n",
              "15-10         1\n",
              "Name: delay_interval_x, Length: 76, dtype: int64"
            ]
          },
          "metadata": {},
          "execution_count": 479
        }
      ]
    },
    {
      "cell_type": "code",
      "source": [
        "bus_data['delay_interval'] = bus_data['how_long_delayed'].str.extract('([0-9]+-[0-9]+)', expand=False)\n",
        "bus_data['delay_interval'].value_counts().index"
      ],
      "metadata": {
        "colab": {
          "base_uri": "https://localhost:8080/"
        },
        "id": "uRiCC6WOLfWx",
        "outputId": "7cbee5dc-5d73-439a-8b03-e35152d5d7ab"
      },
      "execution_count": null,
      "outputs": [
        {
          "output_type": "execute_result",
          "data": {
            "text/plain": [
              "Index(['31-45', '16-30', '46-60', '0-15', '61-90', '20-30', '15-20', '10-15',\n",
              "       '25-30', '20-25', '10-20', '25-35', '5-10', '30-40', '30-45', '30-60',\n",
              "       '35-40', '30-35', '40-45', '35-45', '10-12', '45-60', '15-30', '15-25',\n",
              "       '45-50', '45-1', '7-10', '5-7', '40-50', '20-40', '8-10', '20-32',\n",
              "       '20-35', '60-90', '40-60', '5-15', '25-40', '30-50', '5-8', '50-1',\n",
              "       '40-55', '50-60', '40-1', '12-18', '10-30', '13-15', '2-30', '10-11',\n",
              "       '20-225', '18-25', '25-300', '60-120', '25-20', '10-112', '115-20',\n",
              "       '15-320', '6-7', '20-28', '40-5', '45-55', '52-30', '25-45', '12-15',\n",
              "       '15-250', '12-20', '10-14', '7-8', '30-75', '30-70', '10-40', '15-15',\n",
              "       '20-15', '5-1', '10-18', '20-20', '15-10'],\n",
              "      dtype='object')"
            ]
          },
          "metadata": {},
          "execution_count": 480
        }
      ]
    },
    {
      "cell_type": "code",
      "source": [
        "how_long_delayed_interval = {'31-45': '< 45', '16-30': '< 30', '46-60': '< 60', '0-15' : '< 15', '61-90': '< 90', '20-30': '< 30', \n",
        "                             '15-20': '< 20', '10-15': '< 15', '25-30': '< 30', '20-25': '< 25', '10-20': '< 20', '25-35': '< 35', \n",
        "       '5-10': '< 10', '30-40': '< 40', '30-45': '< 45', '30-60': '< 60',\n",
        "       '35-40': '< 40', '30-35': '< 35', '40-45': '< 45', '35-45': '< 45', '10-12': '< 15', '45-60': '< 60', '15-30': '< 30', '15-25': '< 25',\n",
        "       '45-50': '< 50', '45-1': '< 45', '7-10': '< 10', '5-7': '< 10', '40-50': '< 50', '20-40': '< 40', '8-10': '< 10', '20-32': '< 35',\n",
        "       '20-35': '< 35', '60-90': '< 90', '40-60': '< 60', '5-15': '< 15', '25-40': '< 40', '30-50': '< 50', '5-8': '< 10', '50-1': '< 50',\n",
        "       '40-55': '< 55', '50-60': '< 60', '40-1': '< 40', '12-18': '< 20', '10-30': '< 30', '13-15': '< 15', '2-30': '< 30', '10-11': '< 15',\n",
        "       '20-225': '< 25', '18-25': '< 25', '25-300': '< 30', '60-120': '< 120', '25-20': '< 25', '10-112': '< 15', '115-20': '< 20',\n",
        "       '15-320': '< 35', '6-7': '< 10', '20-28': '< 30', '40-5': '< 40', '45-55': '< 55', '52-30': '< 55', '25-45': '< 45', '12-15': '< 15',\n",
        "       '15-250': '< 25', '12-20': '< 20', '10-14': '< 15', '7-8': '< 10', '30-75': '< 75', '30-70': '< 70', '10-40': '< 40', '15-15': '< 15',\n",
        "       '20-15': '< 20', '5-1': '< 10', '10-18': '< 20', '20-20': '< 20', '15-10': '< 15'}"
      ],
      "metadata": {
        "id": "cGIgDzDumevg"
      },
      "execution_count": null,
      "outputs": []
    },
    {
      "cell_type": "code",
      "source": [
        "how_long_delayed_interval = {'31-45':[31, 45], '16-30':[16, 30], '46-60':[46, 60], '0-15':[0, 15],   '61-90':[61, 90], '20-30':[20, 30], \n",
        "                             '15-20':[15, 20], '10-15':[10, 15], '25-30':[25, 30], '20-25':[20, 25], '10-20':[10, 20], '25-35':[25, 35], \n",
        "       '5-10':[5, 10], '30-40':[30, 40], '30-45':[30, 45], '30-60':[30, 60],\n",
        "       '35-40':[35, 40], '30-35':[30, 35], '40-45':[40, 45], '35-45':[35, 45], '10-12':[10, 12], '45-60':[45, 60], \n",
        "       '15-30':[15, 30], '15-25':[15, 25], '45-50':[45, 50], '45-1':[1, 45], '7-10':[7, 10], '5-7':[5, 7], '40-50':[40, 50], \n",
        "       '20-40':[20, 40], '8-10':[8, 10], '20-32':[20, 32], '20-35':[20, 35], '60-90':[60, 90], '40-60':[40, 60], \n",
        "       '5-15':[5, 15], '25-40':[25, 40], '30-50':[30, 50], '5-8':[5, 8], '50-1':[1, 50],\n",
        "       '40-55':[40, 55], '50-60':[50, 60], '40-1':[1, 40], '12-18':[12, 18], '10-30':[10, 30], '13-15':[13, 15], '2-30':[2, 30], '10-11':[10, 11],\n",
        "       '20-225':[30, 225], '18-25':[18, 25], '25-300':[25, 300], '60-120':[60, 120], '25-20':[20, 25], '10-112':[10, 112], '115-20':[20, 115],\n",
        "       '15-320':[15, 320], '6-7':[6, 7], '20-28':[20, 28], '40-5':[5, 40], '45-55':[45, 55], '52-30':[30, 52], '25-45':[25, 45], '12-15':[12, 15],\n",
        "       '15-250':[15, 250], '12-20':[12, 20], '10-14':[10, 14], '7-8':[7, 8], '30-75':[30, 75], '30-70':[30, 70], '10-40':[10, 40], '15-15':[15, 15],\n",
        "       '20-15':[15, 20], '5-1':[1, 5], '10-18':[10, 18], '20-20':[20, 20], '15-10':[10, 15]}"
      ],
      "metadata": {
        "id": "vxHKGYOBumqr"
      },
      "execution_count": null,
      "outputs": []
    },
    {
      "cell_type": "code",
      "source": [
        "keys = ['31-45', '16-30', '46-60', '0-15', '61-90', '20-30', '15-20', '10-15',\n",
        "       '25-30', '20-25', '10-20', '25-35', '5-10', '30-40', '30-45', '30-60',\n",
        "       '35-40', '30-35', '40-45', '35-45', '10-12', '45-60', '15-30', '15-25',\n",
        "       '45-50', '45-1', '7-10', '5-7', '40-50', '20-40', '8-10', '20-32',\n",
        "       '20-35', '60-90', '40-60', '5-15', '25-40', '30-50', '5-8', '50-1',\n",
        "       '40-55', '50-60', '40-1', '12-18', '10-30', '13-15', '2-30', '10-11',\n",
        "       '20-225', '18-25', '25-300', '60-120', '25-20', '10-112', '115-20',\n",
        "       '15-320', '6-7', '20-28', '40-5', '45-55', '52-30', '25-45', '12-15',\n",
        "       '15-250', '12-20', '10-14', '7-8', '30-75', '30-70', '10-40', '15-15',\n",
        "       '20-15', '5-1', '10-18', '20-20', '15-10']\n",
        "\n",
        "bus_data['delay_interval_mapped'] = bus_data['delay_interval'].map(how_long_delayed_interval)\n",
        "#bus_data['delay_interval_mapped'].value_counts(dropna=False)\n",
        "def delayed_time_interval(value):\n",
        "    print(value)\n",
        "    #value1 = value[0]\n",
        "    #value2 = value[1]\n",
        "    #print(value1,' ',value2)\n",
        "    #print(value.replace('-',' ').split(' '))\n",
        "    #return min(value.replace('-',' ').split(' ')[0], value.replace('-',' ').split(' ')[1])\n",
        "    #, max(value.replace('-',' ').split(' ')[0], value.replace('-',' ').split(' ')[1]))\n",
        "\n",
        "#bus_data['delay_interval_mapped'].apply(delayed_time_interval)\n"
      ],
      "metadata": {
        "id": "1PvQLiVKrN2v"
      },
      "execution_count": null,
      "outputs": []
    },
    {
      "cell_type": "code",
      "source": [
        "def min_time_delayed(statement):\n",
        "  if statement != '':\n",
        "    value = re.findall('\\d+', str(statement))\n",
        "    value.sort()\n",
        "    value.reverse()\n",
        "    if len(value) > 0:\n",
        "      return  value.pop()\n",
        "\n",
        "def max_time_delayed(statement):\n",
        "  if statement != '':\n",
        "    value = re.findall('\\d+', str(statement))\n",
        "    value.sort()\n",
        "    if len(value) > 0:\n",
        "      return  value.pop()\n",
        "\n",
        "bus_data['min_delay_time_minutes'] = bus_data['how_long_delayed'].apply(min_time_delayed)\n",
        "bus_data['max_delay_time_minutes'] = bus_data['how_long_delayed'].apply(max_time_delayed)\n",
        "#bus_data['min_delay_time_minutes'].value_counts(dropna=False)\n",
        "#bus_data['max_delay_time_minutes'].value_counts(dropna=False)\n",
        "for i in range(50, 60):\n",
        "  print(bus_data['min_delay_time_minutes'][i], bus_data['max_delay_time_minutes'][i])"
      ],
      "metadata": {
        "colab": {
          "base_uri": "https://localhost:8080/"
        },
        "id": "Ntp7NPuwOnNA",
        "outputId": "e3d3b430-4573-4d8f-b189-062b324e9640"
      },
      "execution_count": null,
      "outputs": [
        {
          "output_type": "stream",
          "name": "stdout",
          "text": [
            "None None\n",
            "None None\n",
            "20 20\n",
            "10 10\n",
            "20 20\n",
            "None None\n",
            "20 20\n",
            "30 30\n",
            "30 40\n",
            "15 15\n"
          ]
        }
      ]
    },
    {
      "cell_type": "code",
      "source": [
        "def get_time(df):\n",
        "  #print(df.min_delay_time_minutes, df.max_delay_time_minutes)\n",
        "  if (df['min_delay_time_minutes'] is not None) and  (df['max_delay_time_minutes'] is not None):\n",
        "    #print(df['min_delay_time_minutes'], df['max_delay_time_minutes'])\n",
        "    upper = int(df['max_delay_time_minutes'])\n",
        "    lower = int(df['min_delay_time_minutes'])\n",
        "    if upper != lower:\n",
        "      #print(abs( upper - lower),'\\n')\n",
        "      return abs( upper - lower)\n",
        "    else:\n",
        "      #print(lower,'\\n')\n",
        "      return lower \n",
        "  elif (df['min_delay_time_minutes'] is None) and (df['max_delay_time_minutes'] is None):\n",
        "    #print(df.min_delay_time_minutes, df.max_delay_time_minutes,'\\n')\n",
        "    return 0\n",
        "  elif (df['min_delay_time_minutes'] is None) and (df['max_delay_time_minutes'] is not None):\n",
        "    #print(df.min_delay_time_minutes, df.max_delay_time_minutes,'\\n')\n",
        "    return df['max_delay_time_minutes'] - 0\n",
        "  elif (df['min_delay_time_minutes'] is not None) and (df['max_delay_time_minutes'] is None):\n",
        "    #print(df.min_delay_time_minutes, df.max_delay_time_minutes,'\\n')\n",
        "    return df['min_delay_time_minutes'] - 0\n",
        "  \n",
        "bus_data['delayed_minutes'] = bus_data.apply(get_time, axis=1)\n",
        "plt.boxplot(bus_data['delayed_minutes'], vert=0);"
      ],
      "metadata": {
        "colab": {
          "base_uri": "https://localhost:8080/",
          "height": 320
        },
        "id": "sdS8lCT4WSkQ",
        "outputId": "fef9cf54-9eed-4e86-f964-0fbf4ed3d8c4"
      },
      "execution_count": null,
      "outputs": [
        {
          "output_type": "display_data",
          "data": {
            "text/plain": [
              "<Figure size 720x360 with 1 Axes>"
            ],
            "image/png": "[encoded data removed]"
          },
          "metadata": {
            "needs_background": "light"
          }
        }
      ]
    },
    {
      "cell_type": "code",
      "source": [
        "'''\n",
        "def cap_off_delay(statement):\n",
        "  if 0 < statement < 360:\n",
        "    return statement\n",
        "  return 360\n",
        "'''\n",
        "def cap_off_delay(statement, time_in_minutes):\n",
        "  if 0 < statement < time_in_minutes:\n",
        "    return statement\n",
        "  return time_in_minutes\n",
        "\n",
        "bus_data['max_cap_delay'] = bus_data['delayed_minutes'].apply(lambda x: cap_off_delay(x, 360))\n",
        "plt.boxplot(bus_data['max_cap_delay'], vert=0);\n",
        "#bus_data['max_cap_delay'].describe().T"
      ],
      "metadata": {
        "colab": {
          "base_uri": "https://localhost:8080/",
          "height": 320
        },
        "id": "9TAdA1KcbXza",
        "outputId": "5013446f-7ab0-4ef6-9d1f-0092292c1f59"
      },
      "execution_count": null,
      "outputs": [
        {
          "output_type": "display_data",
          "data": {
            "text/plain": [
              "<Figure size 720x360 with 1 Axes>"
            ],
            "image/png": "[encoded data removed]"
          },
          "metadata": {
            "needs_background": "light"
          }
        }
      ]
    },
    {
      "cell_type": "code",
      "source": [
        "def get_max_delay_yn(value):\n",
        "  if 0 < value <= 30:\n",
        "    return \"<= 30\"\n",
        "  elif value > 30:\n",
        "    return \"> 30\"\n",
        "  else:\n",
        "    return \"Not specified\"\n",
        "\n",
        "bus_data['max_cap_delay'].apply(get_max_delay_yn).value_counts(dropna=False)"
      ],
      "metadata": {
        "id": "RZgRVgwLdoOk",
        "colab": {
          "base_uri": "https://localhost:8080/"
        },
        "outputId": "4ebec380-5b35-4fbf-838f-3eb7497b1b6d"
      },
      "execution_count": null,
      "outputs": [
        {
          "output_type": "execute_result",
          "data": {
            "text/plain": [
              "<= 30    457197\n",
              "> 30      72498\n",
              "Name: max_cap_delay, dtype: int64"
            ]
          },
          "metadata": {},
          "execution_count": 418
        }
      ]
    },
    {
      "cell_type": "code",
      "source": [
        "# PyJanitor documentation\n",
        "# https://pyjanitor-devs.github.io/pyjanitor/api/functions/#janitor.functions.case_when\n",
        "\n",
        "'''\n",
        "bus_data.case_when(\n",
        "    (bus_data.max_cap_delay > 0) & (bus_data.max_cap_delay <=30), \"<= 30 minutes\",\n",
        "    (bus_data.max_cap_delay >30) & (bus_data.max_cap_delay <=360), \"> 30 minutes\",\n",
        "    default = bus_data.max_cap_delay,\n",
        "    column_name = \"value\",\n",
        ")\n",
        "'''"
      ],
      "metadata": {
        "colab": {
          "base_uri": "https://localhost:8080/",
          "height": 53
        },
        "id": "pfIlLu6YxXx_",
        "outputId": "469964e7-47f0-4820-81a7-8d420cfd2f73"
      },
      "execution_count": null,
      "outputs": [
        {
          "output_type": "execute_result",
          "data": {
            "text/plain": [
              "'\\nbus_data.case_when(\\n    (bus_data.max_cap_delay > 0) & (bus_data.max_cap_delay <=30), \"<= 30 minutes\",\\n    (bus_data.max_cap_delay >30) & (bus_data.max_cap_delay <=360), \"> 30 minutes\",\\n    default = bus_data.max_cap_delay,\\n    column_name = \"value\",\\n)\\n'"
            ],
            "application/vnd.google.colaboratory.intrinsic+json": {
              "type": "string"
            }
          },
          "metadata": {},
          "execution_count": 419
        }
      ]
    },
    {
      "cell_type": "markdown",
      "source": [
        "## **TIMESTAMP DATA**\n",
        "\n",
        "Cleaned-up the timestamp data. Made the occurred_on the index column. Another date column is created_on."
      ],
      "metadata": {
        "id": "zcm1ErQpfGxV"
      }
    },
    {
      "cell_type": "code",
      "source": [
        "# Print 5 rows of time data\n",
        "#bus_data['informed_on'][0:5]"
      ],
      "metadata": {
        "colab": {
          "base_uri": "https://localhost:8080/"
        },
        "id": "PQB2XvjCFsGE",
        "outputId": "541bdb10-e299-4951-fb20-39017bdab7f6"
      },
      "execution_count": null,
      "outputs": [
        {
          "output_type": "execute_result",
          "data": {
            "text/plain": [
              "Occurred_On\n",
              "2015-11-05 08:10:00    11/05/2015 08:12:00 AM\n",
              "2015-11-05 08:10:00    11/05/2015 08:12:00 AM\n",
              "2015-11-05 08:09:00    11/05/2015 08:13:00 AM\n",
              "2015-11-05 08:12:00    11/05/2015 08:14:00 AM\n",
              "2015-11-05 08:13:00    11/05/2015 08:14:00 AM\n",
              "Name: informed_on, dtype: object"
            ]
          },
          "metadata": {},
          "execution_count": 421
        }
      ]
    },
    {
      "cell_type": "code",
      "source": [
        "value = datetime.datetime.strptime(bus_data['informed_on'][0], '%m/%d/%Y %H:%M:%S %p')\n",
        "datetime.datetime.strftime(value, '%m/%d/%Y %H:%M:%S %p')"
      ],
      "metadata": {
        "colab": {
          "base_uri": "https://localhost:8080/",
          "height": 35
        },
        "id": "iv5qOX3AGbbR",
        "outputId": "e26cb643-6295-4c28-8250-0f3e962c7b74"
      },
      "execution_count": null,
      "outputs": [
        {
          "output_type": "execute_result",
          "data": {
            "text/plain": [
              "'11/05/2015 08:12:00 AM'"
            ],
            "application/vnd.google.colaboratory.intrinsic+json": {
              "type": "string"
            }
          },
          "metadata": {},
          "execution_count": 422
        }
      ]
    },
    {
      "cell_type": "code",
      "source": [
        "import datetime\n",
        "\n",
        "def convert_time(date_time):\n",
        "  return datetime.datetime.strptime(date_time, '%m/%d/%Y %H:%M:%S %p')\n",
        "\n",
        "bus_data['informed_on_dt'] = bus_data['informed_on'].apply(convert_time)"
      ],
      "metadata": {
        "id": "oIpozFCHEE0u"
      },
      "execution_count": null,
      "outputs": []
    },
    {
      "cell_type": "code",
      "source": [
        "bus_data['informed_on_dt'][0].month, bus_data['informed_on_dt'][0].day, bus_data['informed_on_dt'][0].year"
      ],
      "metadata": {
        "colab": {
          "base_uri": "https://localhost:8080/"
        },
        "id": "wSwjxZayJFs_",
        "outputId": "2b097b4e-2151-4096-be87-5f93c3496d34"
      },
      "execution_count": null,
      "outputs": [
        {
          "output_type": "execute_result",
          "data": {
            "text/plain": [
              "(11, 5, 2015)"
            ]
          },
          "metadata": {},
          "execution_count": 424
        }
      ]
    },
    {
      "cell_type": "code",
      "source": [
        "bus_data.groupby('breakdown_or_running_late')['has_contractor_notified_schools'].value_counts(dropna=False)"
      ],
      "metadata": {
        "id": "7VtrYNKghUTO",
        "colab": {
          "base_uri": "https://localhost:8080/"
        },
        "outputId": "b4cc092f-eb69-46ad-dabd-f549bd4c9d8a"
      },
      "execution_count": null,
      "outputs": [
        {
          "output_type": "execute_result",
          "data": {
            "text/plain": [
              "breakdown_or_running_late  has_contractor_notified_schools\n",
              "Breakdown                  Yes                                 41599\n",
              "                           No                                   7217\n",
              "Running Late               Yes                                420466\n",
              "                           No                                  60413\n",
              "Name: has_contractor_notified_schools, dtype: int64"
            ]
          },
          "metadata": {},
          "execution_count": 425
        }
      ]
    },
    {
      "cell_type": "code",
      "source": [
        "# Explore reason\n",
        "bus_data.groupby('reason')['breakdown_or_running_late'].value_counts(dropna=False)"
      ],
      "metadata": {
        "id": "BuJrqCqViLUY",
        "colab": {
          "base_uri": "https://localhost:8080/"
        },
        "outputId": "18118720-30b6-4898-ae95-29b9e19ea83b"
      },
      "execution_count": null,
      "outputs": [
        {
          "output_type": "execute_result",
          "data": {
            "text/plain": [
              "reason                       breakdown_or_running_late\n",
              "Accident                     Running Late                   4340\n",
              "                             Breakdown                       461\n",
              "Delayed by School            Running Late                   3791\n",
              "                             Breakdown                        15\n",
              "Flat Tire                    Running Late                   6921\n",
              "                             Breakdown                      6434\n",
              "Heavy Traffic                Running Late                 330624\n",
              "                             Breakdown                       659\n",
              "Late return from Field Trip  Running Late                   8020\n",
              "                             Breakdown                        49\n",
              "Mechanical Problem           Running Late                  25938\n",
              "                             Breakdown                     24769\n",
              "Other                        Running Late                  71646\n",
              "                             Breakdown                      5364\n",
              "Problem Run                  Running Late                  12511\n",
              "                             Breakdown                        62\n",
              "Weather Conditions           Running Late                  10057\n",
              "                             Breakdown                       117\n",
              "Won`t Start                  Breakdown                     10886\n",
              "                             Running Late                   7029\n",
              "Name: breakdown_or_running_late, dtype: int64"
            ]
          },
          "metadata": {},
          "execution_count": 426
        }
      ]
    },
    {
      "cell_type": "code",
      "source": [
        "bus_data.groupby('reason')['has_contractor_notified_schools'].value_counts(dropna=False)"
      ],
      "metadata": {
        "id": "qOkF672jiBNp",
        "colab": {
          "base_uri": "https://localhost:8080/"
        },
        "outputId": "7e3e0ec5-6f09-4e0d-ff55-0db5d93a8b16"
      },
      "execution_count": null,
      "outputs": [
        {
          "output_type": "execute_result",
          "data": {
            "text/plain": [
              "reason                       has_contractor_notified_schools\n",
              "Accident                     Yes                                  4190\n",
              "                             No                                    611\n",
              "Delayed by School            Yes                                  3366\n",
              "                             No                                    440\n",
              "Flat Tire                    Yes                                 11585\n",
              "                             No                                   1770\n",
              "Heavy Traffic                Yes                                292851\n",
              "                             No                                  38432\n",
              "Late return from Field Trip  Yes                                  7059\n",
              "                             No                                   1010\n",
              "Mechanical Problem           Yes                                 41796\n",
              "                             No                                   8911\n",
              "Other                        Yes                                 64944\n",
              "                             No                                  12066\n",
              "Problem Run                  Yes                                 11465\n",
              "                             No                                   1108\n",
              "Weather Conditions           Yes                                  9070\n",
              "                             No                                   1104\n",
              "Won`t Start                  Yes                                 15739\n",
              "                             No                                   2176\n",
              "Name: has_contractor_notified_schools, dtype: int64"
            ]
          },
          "metadata": {},
          "execution_count": 428
        }
      ]
    },
    {
      "cell_type": "code",
      "source": [
        "bus_data['max_cap_delay'].astype('float64').plot();"
      ],
      "metadata": {
        "colab": {
          "base_uri": "https://localhost:8080/",
          "height": 319
        },
        "id": "0r5FjUuoPpCG",
        "outputId": "7a3c6f46-08ac-4e81-d856-8a27fabd3cda"
      },
      "execution_count": null,
      "outputs": [
        {
          "output_type": "display_data",
          "data": {
            "text/plain": [
              "<Figure size 720x360 with 1 Axes>"
            ],
            "image/png": "[encoded data removed]"
          },
          "metadata": {
            "needs_background": "light"
          }
        }
      ]
    },
    {
      "cell_type": "code",
      "source": [
        "bus_data.groupby('reason')['max_cap_delay'].describe().T"
      ],
      "metadata": {
        "colab": {
          "base_uri": "https://localhost:8080/",
          "height": 300
        },
        "id": "7fBUdHICXoT7",
        "outputId": "4abcbf65-4f3e-4202-a1c9-9b8826e35c34"
      },
      "execution_count": null,
      "outputs": [
        {
          "output_type": "execute_result",
          "data": {
            "text/plain": [
              "reason     Accident  Delayed by School     Flat Tire  Heavy Traffic  \\\n",
              "count   4801.000000        3806.000000  13355.000000  331283.000000   \n",
              "mean      90.692772          26.227798    272.973718      22.065126   \n",
              "std      178.121178          74.163855    260.128145      54.219278   \n",
              "min        1.000000           1.000000      1.000000       1.000000   \n",
              "25%       14.000000          14.000000     14.000000      14.000000   \n",
              "50%       14.000000          14.000000     45.000000      14.000000   \n",
              "75%       30.000000          15.000000    540.000000      15.000000   \n",
              "max      540.000000         540.000000    540.000000     540.000000   \n",
              "\n",
              "reason  Late return from Field Trip  Mechanical Problem         Other  \\\n",
              "count                   8069.000000        50707.000000  77010.000000   \n",
              "mean                      35.137564          279.315440     60.949565   \n",
              "std                       90.480002          260.873231    143.768146   \n",
              "min                        1.000000            1.000000      1.000000   \n",
              "25%                       14.000000           14.000000     14.000000   \n",
              "50%                       14.000000          540.000000     14.000000   \n",
              "75%                       29.000000          540.000000     29.000000   \n",
              "max                      540.000000          540.000000    540.000000   \n",
              "\n",
              "reason   Problem Run  Weather Conditions   Won`t Start  \n",
              "count   12573.000000        10174.000000  17915.000000  \n",
              "mean       23.483417           34.461274    338.905554  \n",
              "std        54.831051           86.028915    253.195276  \n",
              "min         1.000000            1.000000      1.000000  \n",
              "25%        14.000000           14.000000     15.000000  \n",
              "50%        14.000000           15.000000    540.000000  \n",
              "75%        20.000000           29.000000    540.000000  \n",
              "max       540.000000          540.000000    540.000000  "
            ],
            "text/html": [
              "\n",
              "  <div id=\"df-a2c93de4-b40c-4174-ad65-226306af8607\">\n",
              "    <div class=\"colab-df-container\">\n",
              "      <div>\n",
              "<style scoped>\n",
              "    .dataframe tbody tr th:only-of-type {\n",
              "        vertical-align: middle;\n",
              "    }\n",
              "\n",
              "    .dataframe tbody tr th {\n",
              "        vertical-align: top;\n",
              "    }\n",
              "\n",
              "    .dataframe thead th {\n",
              "        text-align: right;\n",
              "    }\n",
              "</style>\n",
              "<table border=\"1\" class=\"dataframe\">\n",
              "  <thead>\n",
              "    <tr style=\"text-align: right;\">\n",
              "      <th>reason</th>\n",
              "      <th>Accident</th>\n",
              "      <th>Delayed by School</th>\n",
              "      <th>Flat Tire</th>\n",
              "      <th>Heavy Traffic</th>\n",
              "      <th>Late return from Field Trip</th>\n",
              "      <th>Mechanical Problem</th>\n",
              "      <th>Other</th>\n",
              "      <th>Problem Run</th>\n",
              "      <th>Weather Conditions</th>\n",
              "      <th>Won`t Start</th>\n",
              "    </tr>\n",
              "  </thead>\n",
              "  <tbody>\n",
              "    <tr>\n",
              "      <th>count</th>\n",
              "      <td>4801.000000</td>\n",
              "      <td>3806.000000</td>\n",
              "      <td>13355.000000</td>\n",
              "      <td>331283.000000</td>\n",
              "      <td>8069.000000</td>\n",
              "      <td>50707.000000</td>\n",
              "      <td>77010.000000</td>\n",
              "      <td>12573.000000</td>\n",
              "      <td>10174.000000</td>\n",
              "      <td>17915.000000</td>\n",
              "    </tr>\n",
              "    <tr>\n",
              "      <th>mean</th>\n",
              "      <td>90.692772</td>\n",
              "      <td>26.227798</td>\n",
              "      <td>272.973718</td>\n",
              "      <td>22.065126</td>\n",
              "      <td>35.137564</td>\n",
              "      <td>279.315440</td>\n",
              "      <td>60.949565</td>\n",
              "      <td>23.483417</td>\n",
              "      <td>34.461274</td>\n",
              "      <td>338.905554</td>\n",
              "    </tr>\n",
              "    <tr>\n",
              "      <th>std</th>\n",
              "      <td>178.121178</td>\n",
              "      <td>74.163855</td>\n",
              "      <td>260.128145</td>\n",
              "      <td>54.219278</td>\n",
              "      <td>90.480002</td>\n",
              "      <td>260.873231</td>\n",
              "      <td>143.768146</td>\n",
              "      <td>54.831051</td>\n",
              "      <td>86.028915</td>\n",
              "      <td>253.195276</td>\n",
              "    </tr>\n",
              "    <tr>\n",
              "      <th>min</th>\n",
              "      <td>1.000000</td>\n",
              "      <td>1.000000</td>\n",
              "      <td>1.000000</td>\n",
              "      <td>1.000000</td>\n",
              "      <td>1.000000</td>\n",
              "      <td>1.000000</td>\n",
              "      <td>1.000000</td>\n",
              "      <td>1.000000</td>\n",
              "      <td>1.000000</td>\n",
              "      <td>1.000000</td>\n",
              "    </tr>\n",
              "    <tr>\n",
              "      <th>25%</th>\n",
              "      <td>14.000000</td>\n",
              "      <td>14.000000</td>\n",
              "      <td>14.000000</td>\n",
              "      <td>14.000000</td>\n",
              "      <td>14.000000</td>\n",
              "      <td>14.000000</td>\n",
              "      <td>14.000000</td>\n",
              "      <td>14.000000</td>\n",
              "      <td>14.000000</td>\n",
              "      <td>15.000000</td>\n",
              "    </tr>\n",
              "    <tr>\n",
              "      <th>50%</th>\n",
              "      <td>14.000000</td>\n",
              "      <td>14.000000</td>\n",
              "      <td>45.000000</td>\n",
              "      <td>14.000000</td>\n",
              "      <td>14.000000</td>\n",
              "      <td>540.000000</td>\n",
              "      <td>14.000000</td>\n",
              "      <td>14.000000</td>\n",
              "      <td>15.000000</td>\n",
              "      <td>540.000000</td>\n",
              "    </tr>\n",
              "    <tr>\n",
              "      <th>75%</th>\n",
              "      <td>30.000000</td>\n",
              "      <td>15.000000</td>\n",
              "      <td>540.000000</td>\n",
              "      <td>15.000000</td>\n",
              "      <td>29.000000</td>\n",
              "      <td>540.000000</td>\n",
              "      <td>29.000000</td>\n",
              "      <td>20.000000</td>\n",
              "      <td>29.000000</td>\n",
              "      <td>540.000000</td>\n",
              "    </tr>\n",
              "    <tr>\n",
              "      <th>max</th>\n",
              "      <td>540.000000</td>\n",
              "      <td>540.000000</td>\n",
              "      <td>540.000000</td>\n",
              "      <td>540.000000</td>\n",
              "      <td>540.000000</td>\n",
              "      <td>540.000000</td>\n",
              "      <td>540.000000</td>\n",
              "      <td>540.000000</td>\n",
              "      <td>540.000000</td>\n",
              "      <td>540.000000</td>\n",
              "    </tr>\n",
              "  </tbody>\n",
              "</table>\n",
              "</div>\n",
              "      <button class=\"colab-df-convert\" onclick=\"convertToInteractive('df-a2c93de4-b40c-4174-ad65-226306af8607')\"\n",
              "              title=\"Convert this dataframe to an interactive table.\"\n",
              "              style=\"display:none;\">\n",
              "        \n",
              "  <svg xmlns=\"http://www.w3.org/2000/svg\" height=\"24px\"viewBox=\"0 0 24 24\"\n",
              "       width=\"24px\">\n",
              "    <path d=\"M0 0h24v24H0V0z\" fill=\"none\"/>\n",
              "    <path d=\"M18.56 5.44l.94 2.06.94-2.06 2.06-.94-2.06-.94-.94-2.06-.94 2.06-2.06.94zm-11 1L8.5 8.5l.94-2.06 2.06-.94-2.06-.94L8.5 2.5l-.94 2.06-2.06.94zm10 10l.94 2.06.94-2.06 2.06-.94-2.06-.94-.94-2.06-.94 2.06-2.06.94z\"/><path d=\"M17.41 7.96l-1.37-1.37c-.4-.4-.92-.59-1.43-.59-.52 0-1.04.2-1.43.59L10.3 9.45l-7.72 7.72c-.78.78-.78 2.05 0 2.83L4 21.41c.39.39.9.59 1.41.59.51 0 1.02-.2 1.41-.59l7.78-7.78 2.81-2.81c.8-.78.8-2.07 0-2.86zM5.41 20L4 18.59l7.72-7.72 1.47 1.35L5.41 20z\"/>\n",
              "  </svg>\n",
              "      </button>\n",
              "      \n",
              "  <style>\n",
              "    .colab-df-container {\n",
              "      display:flex;\n",
              "      flex-wrap:wrap;\n",
              "      gap: 12px;\n",
              "    }\n",
              "\n",
              "    .colab-df-convert {\n",
              "      background-color: #E8F0FE;\n",
              "      border: none;\n",
              "      border-radius: 50%;\n",
              "      cursor: pointer;\n",
              "      display: none;\n",
              "      fill: #1967D2;\n",
              "      height: 32px;\n",
              "      padding: 0 0 0 0;\n",
              "      width: 32px;\n",
              "    }\n",
              "\n",
              "    .colab-df-convert:hover {\n",
              "      background-color: #E2EBFA;\n",
              "      box-shadow: 0px 1px 2px rgba(60, 64, 67, 0.3), 0px 1px 3px 1px rgba(60, 64, 67, 0.15);\n",
              "      fill: #174EA6;\n",
              "    }\n",
              "\n",
              "    [theme=dark] .colab-df-convert {\n",
              "      background-color: #3B4455;\n",
              "      fill: #D2E3FC;\n",
              "    }\n",
              "\n",
              "    [theme=dark] .colab-df-convert:hover {\n",
              "      background-color: #434B5C;\n",
              "      box-shadow: 0px 1px 3px 1px rgba(0, 0, 0, 0.15);\n",
              "      filter: drop-shadow(0px 1px 2px rgba(0, 0, 0, 0.3));\n",
              "      fill: #FFFFFF;\n",
              "    }\n",
              "  </style>\n",
              "\n",
              "      <script>\n",
              "        const buttonEl =\n",
              "          document.querySelector('#df-a2c93de4-b40c-4174-ad65-226306af8607 button.colab-df-convert');\n",
              "        buttonEl.style.display =\n",
              "          google.colab.kernel.accessAllowed ? 'block' : 'none';\n",
              "\n",
              "        async function convertToInteractive(key) {\n",
              "          const element = document.querySelector('#df-a2c93de4-b40c-4174-ad65-226306af8607');\n",
              "          const dataTable =\n",
              "            await google.colab.kernel.invokeFunction('convertToInteractive',\n",
              "                                                     [key], {});\n",
              "          if (!dataTable) return;\n",
              "\n",
              "          const docLinkHtml = 'Like what you see? Visit the ' +\n",
              "            '<a target=\"_blank\" href=https://colab.research.google.com/notebooks/data_table.ipynb>data table notebook</a>'\n",
              "            + ' to learn more about interactive tables.';\n",
              "          element.innerHTML = '';\n",
              "          dataTable['output_type'] = 'display_data';\n",
              "          await google.colab.output.renderOutput(dataTable, element);\n",
              "          const docLink = document.createElement('div');\n",
              "          docLink.innerHTML = docLinkHtml;\n",
              "          element.appendChild(docLink);\n",
              "        }\n",
              "      </script>\n",
              "    </div>\n",
              "  </div>\n",
              "  "
            ]
          },
          "metadata": {},
          "execution_count": 458
        }
      ]
    },
    {
      "cell_type": "code",
      "source": [
        "def cap_off_delay(statement, time_in_minutes):\n",
        "  if 0 < statement < time_in_minutes:\n",
        "    #print(time_in_minutes)\n",
        "    #print(statement)\n",
        "    return statement\n",
        "  return time_in_minutes\n",
        "\n",
        "\n",
        "bus_data['max_cap_delay'] = bus_data['delayed_minutes'].apply(lambda x: cap_off_delay(x, 180))\n",
        "bus_data.groupby('reason')['max_cap_delay'].describe().T"
      ],
      "metadata": {
        "colab": {
          "base_uri": "https://localhost:8080/",
          "height": 300
        },
        "id": "Jc0XSEf6XpbJ",
        "outputId": "01ba8697-5cff-41c5-9c60-ac3b5734c623"
      },
      "execution_count": null,
      "outputs": [
        {
          "output_type": "execute_result",
          "data": {
            "text/plain": [
              "reason     Accident  Delayed by School     Flat Tire  Heavy Traffic  \\\n",
              "count   4801.000000        3806.000000  13355.000000  331283.000000   \n",
              "mean      41.988752          18.944561     97.789891      18.226857   \n",
              "std       55.912810          24.167252     80.523874      18.214210   \n",
              "min        1.000000           1.000000      1.000000       1.000000   \n",
              "25%       14.000000          14.000000     14.000000      14.000000   \n",
              "50%       14.000000          14.000000     45.000000      14.000000   \n",
              "75%       30.000000          15.000000    180.000000      15.000000   \n",
              "max      180.000000         180.000000    180.000000     180.000000   \n",
              "\n",
              "reason  Late return from Field Trip  Mechanical Problem         Other  \\\n",
              "count                   8069.000000        50707.000000  77010.000000   \n",
              "mean                      24.083653           99.283097     31.326126   \n",
              "std                       29.739821           81.200466     45.553759   \n",
              "min                        1.000000            1.000000      1.000000   \n",
              "25%                       14.000000           14.000000     14.000000   \n",
              "50%                       14.000000          180.000000     14.000000   \n",
              "75%                       29.000000          180.000000     29.000000   \n",
              "max                      180.000000          180.000000    180.000000   \n",
              "\n",
              "reason   Problem Run  Weather Conditions   Won`t Start  \n",
              "count   12573.000000        10174.000000  17915.000000  \n",
              "mean       19.560725           24.527128    118.223444  \n",
              "std        18.728159           28.915942     78.062041  \n",
              "min         1.000000            1.000000      1.000000  \n",
              "25%        14.000000           14.000000     15.000000  \n",
              "50%        14.000000           15.000000    180.000000  \n",
              "75%        20.000000           29.000000    180.000000  \n",
              "max       180.000000          180.000000    180.000000  "
            ],
            "text/html": [
              "\n",
              "  <div id=\"df-49b536c1-eaaa-4f30-8efc-1c7867d28ea7\">\n",
              "    <div class=\"colab-df-container\">\n",
              "      <div>\n",
              "<style scoped>\n",
              "    .dataframe tbody tr th:only-of-type {\n",
              "        vertical-align: middle;\n",
              "    }\n",
              "\n",
              "    .dataframe tbody tr th {\n",
              "        vertical-align: top;\n",
              "    }\n",
              "\n",
              "    .dataframe thead th {\n",
              "        text-align: right;\n",
              "    }\n",
              "</style>\n",
              "<table border=\"1\" class=\"dataframe\">\n",
              "  <thead>\n",
              "    <tr style=\"text-align: right;\">\n",
              "      <th>reason</th>\n",
              "      <th>Accident</th>\n",
              "      <th>Delayed by School</th>\n",
              "      <th>Flat Tire</th>\n",
              "      <th>Heavy Traffic</th>\n",
              "      <th>Late return from Field Trip</th>\n",
              "      <th>Mechanical Problem</th>\n",
              "      <th>Other</th>\n",
              "      <th>Problem Run</th>\n",
              "      <th>Weather Conditions</th>\n",
              "      <th>Won`t Start</th>\n",
              "    </tr>\n",
              "  </thead>\n",
              "  <tbody>\n",
              "    <tr>\n",
              "      <th>count</th>\n",
              "      <td>4801.000000</td>\n",
              "      <td>3806.000000</td>\n",
              "      <td>13355.000000</td>\n",
              "      <td>331283.000000</td>\n",
              "      <td>8069.000000</td>\n",
              "      <td>50707.000000</td>\n",
              "      <td>77010.000000</td>\n",
              "      <td>12573.000000</td>\n",
              "      <td>10174.000000</td>\n",
              "      <td>17915.000000</td>\n",
              "    </tr>\n",
              "    <tr>\n",
              "      <th>mean</th>\n",
              "      <td>41.988752</td>\n",
              "      <td>18.944561</td>\n",
              "      <td>97.789891</td>\n",
              "      <td>18.226857</td>\n",
              "      <td>24.083653</td>\n",
              "      <td>99.283097</td>\n",
              "      <td>31.326126</td>\n",
              "      <td>19.560725</td>\n",
              "      <td>24.527128</td>\n",
              "      <td>118.223444</td>\n",
              "    </tr>\n",
              "    <tr>\n",
              "      <th>std</th>\n",
              "      <td>55.912810</td>\n",
              "      <td>24.167252</td>\n",
              "      <td>80.523874</td>\n",
              "      <td>18.214210</td>\n",
              "      <td>29.739821</td>\n",
              "      <td>81.200466</td>\n",
              "      <td>45.553759</td>\n",
              "      <td>18.728159</td>\n",
              "      <td>28.915942</td>\n",
              "      <td>78.062041</td>\n",
              "    </tr>\n",
              "    <tr>\n",
              "      <th>min</th>\n",
              "      <td>1.000000</td>\n",
              "      <td>1.000000</td>\n",
              "      <td>1.000000</td>\n",
              "      <td>1.000000</td>\n",
              "      <td>1.000000</td>\n",
              "      <td>1.000000</td>\n",
              "      <td>1.000000</td>\n",
              "      <td>1.000000</td>\n",
              "      <td>1.000000</td>\n",
              "      <td>1.000000</td>\n",
              "    </tr>\n",
              "    <tr>\n",
              "      <th>25%</th>\n",
              "      <td>14.000000</td>\n",
              "      <td>14.000000</td>\n",
              "      <td>14.000000</td>\n",
              "      <td>14.000000</td>\n",
              "      <td>14.000000</td>\n",
              "      <td>14.000000</td>\n",
              "      <td>14.000000</td>\n",
              "      <td>14.000000</td>\n",
              "      <td>14.000000</td>\n",
              "      <td>15.000000</td>\n",
              "    </tr>\n",
              "    <tr>\n",
              "      <th>50%</th>\n",
              "      <td>14.000000</td>\n",
              "      <td>14.000000</td>\n",
              "      <td>45.000000</td>\n",
              "      <td>14.000000</td>\n",
              "      <td>14.000000</td>\n",
              "      <td>180.000000</td>\n",
              "      <td>14.000000</td>\n",
              "      <td>14.000000</td>\n",
              "      <td>15.000000</td>\n",
              "      <td>180.000000</td>\n",
              "    </tr>\n",
              "    <tr>\n",
              "      <th>75%</th>\n",
              "      <td>30.000000</td>\n",
              "      <td>15.000000</td>\n",
              "      <td>180.000000</td>\n",
              "      <td>15.000000</td>\n",
              "      <td>29.000000</td>\n",
              "      <td>180.000000</td>\n",
              "      <td>29.000000</td>\n",
              "      <td>20.000000</td>\n",
              "      <td>29.000000</td>\n",
              "      <td>180.000000</td>\n",
              "    </tr>\n",
              "    <tr>\n",
              "      <th>max</th>\n",
              "      <td>180.000000</td>\n",
              "      <td>180.000000</td>\n",
              "      <td>180.000000</td>\n",
              "      <td>180.000000</td>\n",
              "      <td>180.000000</td>\n",
              "      <td>180.000000</td>\n",
              "      <td>180.000000</td>\n",
              "      <td>180.000000</td>\n",
              "      <td>180.000000</td>\n",
              "      <td>180.000000</td>\n",
              "    </tr>\n",
              "  </tbody>\n",
              "</table>\n",
              "</div>\n",
              "      <button class=\"colab-df-convert\" onclick=\"convertToInteractive('df-49b536c1-eaaa-4f30-8efc-1c7867d28ea7')\"\n",
              "              title=\"Convert this dataframe to an interactive table.\"\n",
              "              style=\"display:none;\">\n",
              "        \n",
              "  <svg xmlns=\"http://www.w3.org/2000/svg\" height=\"24px\"viewBox=\"0 0 24 24\"\n",
              "       width=\"24px\">\n",
              "    <path d=\"M0 0h24v24H0V0z\" fill=\"none\"/>\n",
              "    <path d=\"M18.56 5.44l.94 2.06.94-2.06 2.06-.94-2.06-.94-.94-2.06-.94 2.06-2.06.94zm-11 1L8.5 8.5l.94-2.06 2.06-.94-2.06-.94L8.5 2.5l-.94 2.06-2.06.94zm10 10l.94 2.06.94-2.06 2.06-.94-2.06-.94-.94-2.06-.94 2.06-2.06.94z\"/><path d=\"M17.41 7.96l-1.37-1.37c-.4-.4-.92-.59-1.43-.59-.52 0-1.04.2-1.43.59L10.3 9.45l-7.72 7.72c-.78.78-.78 2.05 0 2.83L4 21.41c.39.39.9.59 1.41.59.51 0 1.02-.2 1.41-.59l7.78-7.78 2.81-2.81c.8-.78.8-2.07 0-2.86zM5.41 20L4 18.59l7.72-7.72 1.47 1.35L5.41 20z\"/>\n",
              "  </svg>\n",
              "      </button>\n",
              "      \n",
              "  <style>\n",
              "    .colab-df-container {\n",
              "      display:flex;\n",
              "      flex-wrap:wrap;\n",
              "      gap: 12px;\n",
              "    }\n",
              "\n",
              "    .colab-df-convert {\n",
              "      background-color: #E8F0FE;\n",
              "      border: none;\n",
              "      border-radius: 50%;\n",
              "      cursor: pointer;\n",
              "      display: none;\n",
              "      fill: #1967D2;\n",
              "      height: 32px;\n",
              "      padding: 0 0 0 0;\n",
              "      width: 32px;\n",
              "    }\n",
              "\n",
              "    .colab-df-convert:hover {\n",
              "      background-color: #E2EBFA;\n",
              "      box-shadow: 0px 1px 2px rgba(60, 64, 67, 0.3), 0px 1px 3px 1px rgba(60, 64, 67, 0.15);\n",
              "      fill: #174EA6;\n",
              "    }\n",
              "\n",
              "    [theme=dark] .colab-df-convert {\n",
              "      background-color: #3B4455;\n",
              "      fill: #D2E3FC;\n",
              "    }\n",
              "\n",
              "    [theme=dark] .colab-df-convert:hover {\n",
              "      background-color: #434B5C;\n",
              "      box-shadow: 0px 1px 3px 1px rgba(0, 0, 0, 0.15);\n",
              "      filter: drop-shadow(0px 1px 2px rgba(0, 0, 0, 0.3));\n",
              "      fill: #FFFFFF;\n",
              "    }\n",
              "  </style>\n",
              "\n",
              "      <script>\n",
              "        const buttonEl =\n",
              "          document.querySelector('#df-49b536c1-eaaa-4f30-8efc-1c7867d28ea7 button.colab-df-convert');\n",
              "        buttonEl.style.display =\n",
              "          google.colab.kernel.accessAllowed ? 'block' : 'none';\n",
              "\n",
              "        async function convertToInteractive(key) {\n",
              "          const element = document.querySelector('#df-49b536c1-eaaa-4f30-8efc-1c7867d28ea7');\n",
              "          const dataTable =\n",
              "            await google.colab.kernel.invokeFunction('convertToInteractive',\n",
              "                                                     [key], {});\n",
              "          if (!dataTable) return;\n",
              "\n",
              "          const docLinkHtml = 'Like what you see? Visit the ' +\n",
              "            '<a target=\"_blank\" href=https://colab.research.google.com/notebooks/data_table.ipynb>data table notebook</a>'\n",
              "            + ' to learn more about interactive tables.';\n",
              "          element.innerHTML = '';\n",
              "          dataTable['output_type'] = 'display_data';\n",
              "          await google.colab.output.renderOutput(dataTable, element);\n",
              "          const docLink = document.createElement('div');\n",
              "          docLink.innerHTML = docLinkHtml;\n",
              "          element.appendChild(docLink);\n",
              "        }\n",
              "      </script>\n",
              "    </div>\n",
              "  </div>\n",
              "  "
            ]
          },
          "metadata": {},
          "execution_count": 473
        }
      ]
    },
    {
      "cell_type": "code",
      "source": [],
      "metadata": {
        "id": "2isUEraGXkyk"
      },
      "execution_count": null,
      "outputs": []
    }
  ]
}